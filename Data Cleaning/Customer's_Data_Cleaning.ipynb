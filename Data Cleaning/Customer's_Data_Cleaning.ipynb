{
 "cells": [
  {
   "cell_type": "code",
   "execution_count": null,
   "metadata": {
    "application/vnd.databricks.v1+cell": {
     "cellMetadata": {
      "byteLimit": 2048000,
      "rowLimit": 10000
     },
     "inputWidgets": {},
     "nuid": "169df9eb-1e97-48d1-8309-c4d2ae62759a",
     "showTitle": false,
     "title": ""
    }
   },
   "outputs": [],
   "source": [
    "from pyspark.sql.types import StructType, StructField, IntegerType, StringType\n",
    "from pyspark.sql.functions import  concat, current_timestamp,sha2,col"
   ]
  },
  {
   "cell_type": "code",
   "execution_count": null,
   "metadata": {
    "application/vnd.databricks.v1+cell": {
     "cellMetadata": {
      "byteLimit": 2048000,
      "rowLimit": 10000
     },
     "inputWidgets": {},
     "nuid": "6776e0f8-c2fb-4e88-9890-2110c4cd6538",
     "showTitle": false,
     "title": ""
    }
   },
   "outputs": [],
   "source": [
    "#Infer the schema of customer's data\n",
    "customer_schema = StructType(fields=[StructField(\"cust_id\", StringType(), True),\n",
    "                                     StructField(\"mem_id\", StringType(), True),\n",
    "                                     StructField(\"fst_name\", StringType(), False),\n",
    "                                     StructField(\"lst_name\", StringType(), False),\n",
    "                                     StructField(\"prm_status\", StringType(), False),\n",
    "                                     StructField(\"age\", IntegerType(), False),\n",
    "                                     StructField(\"state\", StringType(), False),\n",
    "                                     StructField(\"country\", StringType(), False)\n",
    "                                    \n",
    "])"
   ]
  },
  {
   "cell_type": "markdown",
   "metadata": {
    "application/vnd.databricks.v1+cell": {
     "cellMetadata": {},
     "inputWidgets": {},
     "nuid": "a31cd875-ee53-40f9-a290-0bd8c4e28ab5",
     "showTitle": false,
     "title": ""
    }
   },
   "source": [
    "####Read the csv file into a dataframe"
   ]
  },
  {
   "cell_type": "code",
   "execution_count": null,
   "metadata": {
    "application/vnd.databricks.v1+cell": {
     "cellMetadata": {
      "byteLimit": 2048000,
      "rowLimit": 10000
     },
     "inputWidgets": {},
     "nuid": "6ac93a97-a43f-49c2-8079-028b6aea06fb",
     "showTitle": false,
     "title": ""
    }
   },
   "outputs": [],
   "source": [
    "\n",
    "customer_df = spark.read \\\n",
    ".option(\"header\", True) \\\n",
    ".schema(customer_schema) \\\n",
    ".csv(\"/mnt/bronze/lending_loan/loan_customer_data.csv\")"
   ]
  },
  {
   "cell_type": "code",
   "execution_count": null,
   "metadata": {
    "application/vnd.databricks.v1+cell": {
     "cellMetadata": {
      "byteLimit": 2048000,
      "rowLimit": 10000
     },
     "inputWidgets": {},
     "nuid": "8457baa8-e3cb-40e5-9833-e14ce3daa13e",
     "showTitle": false,
     "title": ""
    }
   },
   "outputs": [
    {
     "name": "stdout",
     "output_type": "stream",
     "text": [
      "root\n",
      " |-- cust_id: string (nullable = true)\n",
      " |-- mem_id: string (nullable = true)\n",
      " |-- fst_name: string (nullable = true)\n",
      " |-- lst_name: string (nullable = true)\n",
      " |-- prm_status: string (nullable = true)\n",
      " |-- age: integer (nullable = true)\n",
      " |-- state: string (nullable = true)\n",
      " |-- country: string (nullable = true)\n",
      "\n"
     ]
    }
   ],
   "source": [
    "customer_df.printSchema()"
   ]
  },
  {
   "cell_type": "code",
   "execution_count": null,
   "metadata": {
    "application/vnd.databricks.v1+cell": {
     "cellMetadata": {
      "byteLimit": 2048000,
      "rowLimit": 10000
     },
     "inputWidgets": {},
     "nuid": "3ab5fe69-7c0b-43cb-b647-f93509208d61",
     "showTitle": false,
     "title": ""
    }
   },
   "outputs": [],
   "source": [
    "customer_selected_df = customer_df.select(col(\"cust_id\"), col(\"mem_id\"), col(\"fst_name\"), col(\"lst_name\"), col(\"prm_status\"), col(\"age\"), col(\"state\"), col(\"country\"))\n",
    " "
   ]
  },
  {
   "cell_type": "code",
   "execution_count": null,
   "metadata": {
    "application/vnd.databricks.v1+cell": {
     "cellMetadata": {
      "byteLimit": 2048000,
      "rowLimit": 10000
     },
     "inputWidgets": {},
     "nuid": "cf473a79-b53d-4922-b8bd-68ef38e72e37",
     "showTitle": false,
     "title": ""
    }
   },
   "outputs": [],
   "source": [
    "display(customer_selected_df)"
   ]
  },
  {
   "cell_type": "markdown",
   "metadata": {
    "application/vnd.databricks.v1+cell": {
     "cellMetadata": {},
     "inputWidgets": {},
     "nuid": "878dea08-cda9-4ef6-97e1-795b6c71ec11",
     "showTitle": false,
     "title": ""
    }
   },
   "source": [
    "####Rename the columns in the dataframe"
   ]
  },
  {
   "cell_type": "code",
   "execution_count": null,
   "metadata": {
    "application/vnd.databricks.v1+cell": {
     "cellMetadata": {
      "byteLimit": 2048000,
      "rowLimit": 10000
     },
     "inputWidgets": {},
     "nuid": "3767359b-e2a0-4357-b74f-726925c43c60",
     "showTitle": false,
     "title": ""
    }
   },
   "outputs": [],
   "source": [
    "#Rename the columns to a better understandable way\n",
    "customer_df_change=customer_df.withColumnRenamed(\"cust_id\",\"customer_id\") \\\n",
    ".withColumnRenamed(\"mem_id\",\"member_id\") \\\n",
    ".withColumnRenamed(\"fst_name\",\"first_name\") \\\n",
    ".withColumnRenamed(\"lst_name\",\"last_name\") \\\n",
    ".withColumnRenamed(\"prm_status\",\"premium_status\") "
   ]
  },
  {
   "cell_type": "markdown",
   "metadata": {
    "application/vnd.databricks.v1+cell": {
     "cellMetadata": {},
     "inputWidgets": {},
     "nuid": "27dd0a57-8ff9-4dec-9510-544a67a1519b",
     "showTitle": false,
     "title": ""
    }
   },
   "source": [
    "####Add the ingestion date to the dataframe"
   ]
  },
  {
   "cell_type": "code",
   "execution_count": null,
   "metadata": {
    "application/vnd.databricks.v1+cell": {
     "cellMetadata": {
      "byteLimit": 2048000,
      "rowLimit": 10000
     },
     "inputWidgets": {},
     "nuid": "b78dea6a-f442-4d1a-8379-8dcad63b827e",
     "showTitle": false,
     "title": ""
    }
   },
   "outputs": [],
   "source": [
    "#Include a ingest date column to signify when it got ingested into our data lake\n",
    "customer_df_ingestDate=customer_df_change.withColumn(\"ingest_date\", current_timestamp())"
   ]
  },
  {
   "cell_type": "code",
   "execution_count": null,
   "metadata": {
    "application/vnd.databricks.v1+cell": {
     "cellMetadata": {
      "byteLimit": 2048000,
      "rowLimit": 10000
     },
     "inputWidgets": {},
     "nuid": "1b23529d-27c5-4233-8fbb-64b924e2dfb1",
     "showTitle": false,
     "title": ""
    }
   },
   "outputs": [],
   "source": [
    "display(customer_df_ingestDate)"
   ]
  },
  {
   "cell_type": "markdown",
   "metadata": {
    "application/vnd.databricks.v1+cell": {
     "cellMetadata": {},
     "inputWidgets": {},
     "nuid": "d487e635-e7c4-4636-aff6-488b6e3ea0ba",
     "showTitle": false,
     "title": ""
    }
   },
   "source": [
    "####Add a surrogate key to the dataframe"
   ]
  },
  {
   "cell_type": "code",
   "execution_count": null,
   "metadata": {
    "application/vnd.databricks.v1+cell": {
     "cellMetadata": {
      "byteLimit": 2048000,
      "rowLimit": 10000
     },
     "inputWidgets": {},
     "nuid": "a7853572-41d0-412f-921a-b1eefd8359a3",
     "showTitle": false,
     "title": ""
    }
   },
   "outputs": [],
   "source": [
    "#Include a customer_key column which acts like a surrogate key in the table\n",
    "#SHA-2 (Secure Hash Algorithm 2) is a set of cryptographic hash functions. It produces a 256-bit (32-byte) hash value and is generally considered to be a more secure.\n",
    "customer_df_final=customer_df_ingestDate.withColumn(\"customer_key\", sha2(concat(col(\"member_id\"),col(\"age\"),col(\"state\")), 256))\n",
    "display(customer_df_final)"
   ]
  },
  {
   "cell_type": "markdown",
   "metadata": {
    "application/vnd.databricks.v1+cell": {
     "cellMetadata": {},
     "inputWidgets": {},
     "nuid": "45b724b2-aff1-4d7a-8699-88e73a1b854f",
     "showTitle": false,
     "title": ""
    }
   },
   "source": [
    "####Use Spark SQL to query the data"
   ]
  },
  {
   "cell_type": "code",
   "execution_count": null,
   "metadata": {
    "application/vnd.databricks.v1+cell": {
     "cellMetadata": {
      "byteLimit": 2048000,
      "rowLimit": 10000
     },
     "inputWidgets": {},
     "nuid": "2c8394c1-01b4-402a-87a8-0f77cd162af4",
     "showTitle": false,
     "title": ""
    }
   },
   "outputs": [],
   "source": [
    "customer_df_final.createOrReplaceTempView(\"temp_table\")\n",
    "display_df=spark.sql(\"select customer_key,ingest_date,customer_id,member_id,first_name,last_name,premium_status,age,state,country from temp_table\")\n",
    "display(display_df)"
   ]
  },
  {
   "cell_type": "markdown",
   "metadata": {
    "application/vnd.databricks.v1+cell": {
     "cellMetadata": {},
     "inputWidgets": {},
     "nuid": "9e134ccf-8f3b-4ca8-8966-7b0a88a9f923",
     "showTitle": false,
     "title": ""
    }
   },
   "source": [
    "####Write the cleaned dataframe into data lake"
   ]
  },
  {
   "cell_type": "code",
   "execution_count": null,
   "metadata": {
    "application/vnd.databricks.v1+cell": {
     "cellMetadata": {
      "byteLimit": 2048000,
      "rowLimit": 10000
     },
     "inputWidgets": {},
     "nuid": "f824a11e-43e6-48a9-82a1-93d26e1f075b",
     "showTitle": false,
     "title": ""
    }
   },
   "outputs": [],
   "source": [
    "display_df.write.options(header='True').mode(\"append\").parquet(\"/mnt/silver/lending_loan/customer_details\")"
   ]
  },
  {
   "cell_type": "code",
   "execution_count": null,
   "metadata": {
    "application/vnd.databricks.v1+cell": {
     "cellMetadata": {
      "byteLimit": 2048000,
      "rowLimit": 10000
     },
     "inputWidgets": {},
     "nuid": "8320a046-4cc5-4bf9-b0bd-da38ecfb1029",
     "showTitle": false,
     "title": ""
    }
   },
   "outputs": [],
   "source": [
    "\n",
    "dbutils.fs.ls(\"/mnt/silver/lending_loan/customer_details\")"
   ]
  },
  {
   "cell_type": "code",
   "execution_count": null,
   "metadata": {
    "application/vnd.databricks.v1+cell": {
     "cellMetadata": {
      "byteLimit": 2048000,
      "rowLimit": 10000
     },
     "inputWidgets": {},
     "nuid": "498b5e7a-5aef-416c-8566-57d037a3feca",
     "showTitle": false,
     "title": ""
    }
   },
   "outputs": [],
   "source": [
    "display_df.write.options(header='True').mode(\"append\").csv(\"/mnt/gold/lending_loan/customer_details\")"
   ]
  },
  {
   "cell_type": "code",
   "execution_count": null,
   "metadata": {
    "application/vnd.databricks.v1+cell": {
     "cellMetadata": {},
     "inputWidgets": {},
     "nuid": "6da9c580-5c67-407d-8d38-0d21b9d55061",
     "showTitle": false,
     "title": ""
    }
   },
   "outputs": [],
   "source": []
  }
 ],
 "metadata": {
  "application/vnd.databricks.v1+notebook": {
   "dashboards": [],
   "language": "python",
   "notebookMetadata": {
    "pythonIndentUnit": 4
   },
   "notebookName": "Customer's_Data_Cleaning",
   "widgets": {}
  },
  "language_info": {
   "name": "python"
  }
 },
 "nbformat": 4,
 "nbformat_minor": 0
}
