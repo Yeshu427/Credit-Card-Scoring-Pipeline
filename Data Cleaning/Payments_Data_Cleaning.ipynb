{
 "cells": [
  {
   "cell_type": "code",
   "execution_count": null,
   "metadata": {
    "application/vnd.databricks.v1+cell": {
     "cellMetadata": {
      "byteLimit": 2048000,
      "rowLimit": 10000
     },
     "inputWidgets": {},
     "nuid": "335490f3-ba74-4f47-8659-70bcec263c45",
     "showTitle": false,
     "title": ""
    }
   },
   "outputs": [],
   "source": [
    "from pyspark.sql.types import StructType,StructField,StringType,IntegerType,DoubleType,FloatType,DateType\n",
    "from pyspark.sql.functions import col, concat, current_timestamp,regexp_replace,lit,to_date,sha2"
   ]
  },
  {
   "cell_type": "code",
   "execution_count": null,
   "metadata": {
    "application/vnd.databricks.v1+cell": {
     "cellMetadata": {
      "byteLimit": 2048000,
      "rowLimit": 10000
     },
     "inputWidgets": {},
     "nuid": "19ca4566-c957-45d2-bb5e-df0ca8a3a617",
     "showTitle": false,
     "title": ""
    }
   },
   "outputs": [],
   "source": [
    "loan_schema = StructType(fields=[StructField(\"loan_id\", StringType(), False),\n",
    "                                     StructField(\"mem_id\", StringType(), False),\n",
    "                                     StructField(\"latest_transaction_id\", StringType(), False),\n",
    "                                     StructField(\"funded_amnt_inv\", DoubleType(), True),\n",
    "                                     StructField(\"total_pymnt_rec\", FloatType(), True),\n",
    "                                     StructField(\"installment\", FloatType(), True),\n",
    "                                     StructField(\"last_pymnt_amnt\", FloatType(), True),\n",
    "                                     StructField(\"last_pymnt_d\", DateType(), True),\n",
    "                                     StructField(\"next_pymnt_d\", DateType(), True),\n",
    "                                     StructField(\"pymnt_method\", StringType(), True)\n",
    "                                     \n",
    "])"
   ]
  },
  {
   "cell_type": "code",
   "execution_count": null,
   "metadata": {
    "application/vnd.databricks.v1+cell": {
     "cellMetadata": {
      "byteLimit": 2048000,
      "rowLimit": 10000
     },
     "inputWidgets": {},
     "nuid": "950c326a-652a-44c8-a5fb-1bf2941e2a01",
     "showTitle": false,
     "title": ""
    }
   },
   "outputs": [],
   "source": [
    "payment_df = spark.read \\\n",
    ".option(\"header\", True) \\\n",
    ".schema(loan_schema) \\\n",
    ".csv(\"/mnt/bronze/lending_loan/loan_payment.csv\")"
   ]
  },
  {
   "cell_type": "code",
   "execution_count": null,
   "metadata": {
    "application/vnd.databricks.v1+cell": {
     "cellMetadata": {
      "byteLimit": 2048000,
      "rowLimit": 10000
     },
     "inputWidgets": {},
     "nuid": "f894db55-abac-4497-bacb-9a9abc59d4ab",
     "showTitle": false,
     "title": ""
    }
   },
   "outputs": [],
   "source": [
    "payment_df.createOrReplaceTempView(\"payment_table\")\n",
    "payment_sql=spark.sql(\"select * from payment_table where last_pymnt_d < '2022-09-18' \")\n",
    "display(payment_sql)"
   ]
  },
  {
   "cell_type": "code",
   "execution_count": null,
   "metadata": {
    "application/vnd.databricks.v1+cell": {
     "cellMetadata": {
      "byteLimit": 2048000,
      "rowLimit": 10000
     },
     "inputWidgets": {},
     "nuid": "e3326c23-245a-4712-bf2e-eda9f195e6dc",
     "showTitle": false,
     "title": ""
    }
   },
   "outputs": [],
   "source": [
    "payment_df_ingestDate=payment_df.withColumn(\"ingest_date\", current_timestamp())\n",
    "display(payment_sql)"
   ]
  },
  {
   "cell_type": "code",
   "execution_count": null,
   "metadata": {
    "application/vnd.databricks.v1+cell": {
     "cellMetadata": {
      "byteLimit": 2048000,
      "rowLimit": 10000
     },
     "inputWidgets": {},
     "nuid": "526f4be8-59a0-4ded-a908-9db91211d564",
     "showTitle": false,
     "title": ""
    }
   },
   "outputs": [],
   "source": [
    "payment_df_key=payment_df_ingestDate.withColumn(\"payment_key\", sha2(concat(col(\"loan_id\"),col(\"mem_id\"),col(\"latest_transaction_id\")), 256))\n",
    "display(payment_df_key)"
   ]
  },
  {
   "cell_type": "code",
   "execution_count": null,
   "metadata": {
    "application/vnd.databricks.v1+cell": {
     "cellMetadata": {
      "byteLimit": 2048000,
      "rowLimit": 10000
     },
     "inputWidgets": {},
     "nuid": "633ea433-93cb-408c-9ef8-5aeb4a37dd99",
     "showTitle": false,
     "title": ""
    }
   },
   "outputs": [],
   "source": [
    "null_df=payment_df_key.replace(\"null\",None)"
   ]
  },
  {
   "cell_type": "code",
   "execution_count": null,
   "metadata": {
    "application/vnd.databricks.v1+cell": {
     "cellMetadata": {
      "byteLimit": 2048000,
      "rowLimit": 10000
     },
     "inputWidgets": {},
     "nuid": "e5dc5db7-39ed-470b-9f52-5372dbbec0f0",
     "showTitle": false,
     "title": ""
    }
   },
   "outputs": [],
   "source": [
    "null_df.createOrReplaceTempView(\"payment_table\")\n",
    "payment_sql=spark.sql(\"select * from payment_table where last_pymnt_d is null\")\n",
    "display(payment_sql)"
   ]
  },
  {
   "cell_type": "code",
   "execution_count": null,
   "metadata": {
    "application/vnd.databricks.v1+cell": {
     "cellMetadata": {
      "byteLimit": 2048000,
      "rowLimit": 10000
     },
     "inputWidgets": {},
     "nuid": "6a0ca836-c311-41cd-9cb7-5cd764a43bea",
     "showTitle": false,
     "title": ""
    }
   },
   "outputs": [],
   "source": [
    "payment_df_rename=null_df.withColumnRenamed(\"mem_id\",\"member_id\") \\\n",
    ".withColumnRenamed(\"funded_amnt_inv\",\"funded_amount_investor\") \\\n",
    ".withColumnRenamed(\"total_pymnt_rec\",\"total_payment_recorded\") \\\n",
    ".withColumnRenamed(\"last_pymnt_amnt\",\"last_payment_amount\") \\\n",
    ".withColumnRenamed(\"last_pymnt_d\",\"last_payment_date\") \\\n",
    ".withColumnRenamed(\"next_pymnt_d\",\"next_payment_date\") \\\n",
    ".withColumnRenamed(\"pymnt_method\",\"payment_method\") "
   ]
  },
  {
   "cell_type": "code",
   "execution_count": null,
   "metadata": {
    "application/vnd.databricks.v1+cell": {
     "cellMetadata": {
      "byteLimit": 2048000,
      "rowLimit": 10000
     },
     "inputWidgets": {},
     "nuid": "01f2ac97-4940-474b-b098-d37f668a4ae0",
     "showTitle": false,
     "title": ""
    }
   },
   "outputs": [],
   "source": [
    "payment_df_rename.createOrReplaceTempView(\"temp_table\")\n",
    "final_df=spark.sql(\"select payment_key,ingest_date,loan_id,member_id,latest_transaction_id,funded_amount_investor,total_payment_recorded, installment,last_payment_amount,last_payment_date,next_payment_date,payment_method from temp_table\")\n",
    "display(final_df)"
   ]
  },
  {
   "cell_type": "code",
   "execution_count": null,
   "metadata": {
    "application/vnd.databricks.v1+cell": {
     "cellMetadata": {
      "byteLimit": 2048000,
      "rowLimit": 10000
     },
     "inputWidgets": {},
     "nuid": "8191e66e-7b5c-48a9-a7eb-18b657265638",
     "showTitle": false,
     "title": ""
    }
   },
   "outputs": [],
   "source": [
    "final_df.write.options(header='True').mode(\"append\").parquet(\"/mnt/silver/lending_loan/payment_details\")"
   ]
  },
  {
   "cell_type": "code",
   "execution_count": null,
   "metadata": {
    "application/vnd.databricks.v1+cell": {
     "cellMetadata": {
      "byteLimit": 2048000,
      "rowLimit": 10000
     },
     "inputWidgets": {},
     "nuid": "86d89ece-7a85-4170-beb1-c018453e5f5f",
     "showTitle": false,
     "title": ""
    }
   },
   "outputs": [],
   "source": [
    "dbutils.fs.ls(\"/mnt/silver/lending_loan/payment_details\")"
   ]
  }
 ],
 "metadata": {
  "application/vnd.databricks.v1+notebook": {
   "dashboards": [],
   "language": "python",
   "notebookMetadata": {
    "pythonIndentUnit": 4
   },
   "notebookName": "Payments_Data_Cleaning",
   "widgets": {}
  },
  "language_info": {
   "name": "python"
  }
 },
 "nbformat": 4,
 "nbformat_minor": 0
}
