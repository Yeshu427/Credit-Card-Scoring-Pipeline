{
 "cells": [
  {
   "cell_type": "code",
   "execution_count": 0,
   "metadata": {
    "application/vnd.databricks.v1+cell": {
     "cellMetadata": {
      "byteLimit": 2048000,
      "rowLimit": 10000
     },
     "inputWidgets": {},
     "nuid": "22fc19b8-bfa4-4a5a-8fc4-6517212c94ec",
     "showTitle": false,
     "title": ""
    }
   },
   "outputs": [],
   "source": [
    "from pyspark.sql.types import StructType,StructField,StringType,IntegerType,DoubleType,FloatType,DateType\n",
    "from pyspark.sql.functions import col, concat, current_timestamp,regexp_replace,lit,to_date,sha2"
   ]
  },
  {
   "cell_type": "code",
   "execution_count": 0,
   "metadata": {
    "application/vnd.databricks.v1+cell": {
     "cellMetadata": {
      "byteLimit": 2048000,
      "rowLimit": 10000
     },
     "inputWidgets": {},
     "nuid": "e3bfa3df-f3b7-41a6-9804-abb8626fc00c",
     "showTitle": false,
     "title": ""
    }
   },
   "outputs": [],
   "source": [
    "loan_schema = StructType(fields=[StructField(\"loan_id\", StringType(), False),\n",
    "                                     StructField(\"mem_id\", StringType(), False),\n",
    "                                     StructField(\"acc_id\", StringType(), False),\n",
    "                                     StructField(\"loan_amt\", DoubleType(), True),\n",
    "                                     StructField(\"fnd_amt\", DoubleType(), True),\n",
    "                                     StructField(\"term\", StringType(), True),\n",
    "                                     StructField(\"interest\", StringType(), True),\n",
    "                                     StructField(\"installment\", FloatType(), True),\n",
    "                                     StructField(\"issue_date\", DateType(), True),\n",
    "                                     StructField(\"loan_status\", StringType(), True),\n",
    "                                     StructField(\"purpose\", StringType(), True),\n",
    "                                     StructField(\"title\", StringType(), True),\n",
    "                                     StructField(\"disbursement_method\", StringType(), True)\n",
    "                                    \n",
    "])"
   ]
  },
  {
   "cell_type": "markdown",
   "metadata": {
    "application/vnd.databricks.v1+cell": {
     "cellMetadata": {},
     "inputWidgets": {},
     "nuid": "40785c99-4aeb-4edb-9b55-31d50ddd0559",
     "showTitle": false,
     "title": ""
    }
   },
   "source": [
    "####Read the csv file into a dataframe\n"
   ]
  },
  {
   "cell_type": "code",
   "execution_count": 0,
   "metadata": {
    "application/vnd.databricks.v1+cell": {
     "cellMetadata": {
      "byteLimit": 2048000,
      "rowLimit": 10000
     },
     "inputWidgets": {},
     "nuid": "5907cda1-d2a9-4853-a783-a0aacec50e4a",
     "showTitle": false,
     "title": ""
    }
   },
   "outputs": [],
   "source": [
    "loan_df = spark.read \\\n",
    ".option(\"header\", True) \\\n",
    ".schema(loan_schema) \\\n",
    ".csv(\"/mnt/bronze/lending_loan/loan_details.csv\")"
   ]
  },
  {
   "cell_type": "code",
   "execution_count": 0,
   "metadata": {
    "application/vnd.databricks.v1+cell": {
     "cellMetadata": {
      "byteLimit": 2048000,
      "rowLimit": 10000
     },
     "inputWidgets": {},
     "nuid": "794caf43-149e-4577-89d3-00ed137ac488",
     "showTitle": false,
     "title": ""
    }
   },
   "outputs": [],
   "source": [
    "loan_df.createOrReplaceTempView(\"loan_table\")\n",
    "loan_sql=spark.sql(\"select * from loan_table\")\n",
    "display(loan_sql)"
   ]
  },
  {
   "cell_type": "code",
   "execution_count": 0,
   "metadata": {
    "application/vnd.databricks.v1+cell": {
     "cellMetadata": {
      "byteLimit": 2048000,
      "rowLimit": 10000
     },
     "inputWidgets": {},
     "nuid": "8cb4d226-c9a3-4b80-92aa-ac6fc023ff47",
     "showTitle": false,
     "title": ""
    }
   },
   "outputs": [],
   "source": [
    "loan_sql.createOrReplaceTempView(\"loan_data\")\n",
    "loan_data_df=spark.sql(\"select * from loan_data where term=36 or interest > 5.0\")\n",
    "display(loan_data_df)"
   ]
  },
  {
   "cell_type": "markdown",
   "metadata": {
    "application/vnd.databricks.v1+cell": {
     "cellMetadata": {},
     "inputWidgets": {},
     "nuid": "368e5ffc-380e-4969-8419-f3c724e6eb90",
     "showTitle": false,
     "title": ""
    }
   },
   "source": [
    "####Cleaning Techniques to include"
   ]
  },
  {
   "cell_type": "code",
   "execution_count": 0,
   "metadata": {
    "application/vnd.databricks.v1+cell": {
     "cellMetadata": {
      "byteLimit": 2048000,
      "rowLimit": 10000
     },
     "inputWidgets": {},
     "nuid": "b1073fe7-0dc0-4e1c-b979-66c05ce9bbdb",
     "showTitle": false,
     "title": ""
    }
   },
   "outputs": [],
   "source": [
    "# Define the string to remove\n",
    "string_to_remove = \"months\"\n",
    " \n",
    "# Use the regexp_replace function to remove the string from the column\n",
    "clean_term_df = loan_df.withColumn(\"term\", regexp_replace(loan_df[\"term\"], string_to_remove, \"\"))\n",
    " \n",
    "# Display the resulting dataframe\n",
    "display(clean_term_df)"
   ]
  },
  {
   "cell_type": "code",
   "execution_count": 0,
   "metadata": {
    "application/vnd.databricks.v1+cell": {
     "cellMetadata": {
      "byteLimit": 2048000,
      "rowLimit": 10000
     },
     "inputWidgets": {},
     "nuid": "4905caad-eca7-4cc9-82ff-ef8b1e0caecd",
     "showTitle": false,
     "title": ""
    }
   },
   "outputs": [],
   "source": [
    "# Define the string to remove\n",
    "string_to_remove = \"%\"\n",
    " \n",
    "# Use the regexp_replace function to remove the string from the column\n",
    "clean_interest_df = clean_term_df.withColumn(\"interest\", regexp_replace(clean_term_df[\"interest\"], string_to_remove, \"\"))\n",
    " \n",
    "# Display the resulting dataframe\n",
    "display(clean_interest_df)"
   ]
  },
  {
   "cell_type": "markdown",
   "metadata": {
    "application/vnd.databricks.v1+cell": {
     "cellMetadata": {},
     "inputWidgets": {},
     "nuid": "0c6d8a0d-6d7a-409c-8d03-59b00cce4861",
     "showTitle": false,
     "title": ""
    }
   },
   "source": [
    "####Rename columns in the dataframe\n"
   ]
  },
  {
   "cell_type": "code",
   "execution_count": 0,
   "metadata": {
    "application/vnd.databricks.v1+cell": {
     "cellMetadata": {
      "byteLimit": 2048000,
      "rowLimit": 10000
     },
     "inputWidgets": {},
     "nuid": "0a0a7952-de45-4c7d-a211-8421ee8e1a1a",
     "showTitle": false,
     "title": ""
    }
   },
   "outputs": [],
   "source": [
    "loan_df_rename=clean_interest_df.withColumnRenamed(\"mem_id\",\"member_id\") \\\n",
    ".withColumnRenamed(\"acc_id\",\"account_id\") \\\n",
    ".withColumnRenamed(\"loan_amt\",\"loan_amount\") \\\n",
    ".withColumnRenamed(\"fnd_amt\",\"funded_amount\") "
   ]
  },
  {
   "cell_type": "markdown",
   "metadata": {
    "application/vnd.databricks.v1+cell": {
     "cellMetadata": {},
     "inputWidgets": {},
     "nuid": "38ae0af7-9d4a-4033-b39c-9782e6eb748d",
     "showTitle": false,
     "title": ""
    }
   },
   "source": [
    "####Add the ingestion date to the dataframe"
   ]
  },
  {
   "cell_type": "code",
   "execution_count": 0,
   "metadata": {
    "application/vnd.databricks.v1+cell": {
     "cellMetadata": {
      "byteLimit": 2048000,
      "rowLimit": 10000
     },
     "inputWidgets": {},
     "nuid": "d13d991b-3077-40c4-9135-270b815329e3",
     "showTitle": false,
     "title": ""
    }
   },
   "outputs": [],
   "source": [
    "loan_df_ingestDate=loan_df_rename.withColumn(\"ingest_date\", current_timestamp())\n",
    "display(loan_df_ingestDate)"
   ]
  },
  {
   "cell_type": "markdown",
   "metadata": {
    "application/vnd.databricks.v1+cell": {
     "cellMetadata": {},
     "inputWidgets": {},
     "nuid": "98684cb5-aee3-4b66-8227-b6724625757a",
     "showTitle": false,
     "title": ""
    }
   },
   "source": [
    "####Add a surrogate key to the dataframe"
   ]
  },
  {
   "cell_type": "code",
   "execution_count": 0,
   "metadata": {
    "application/vnd.databricks.v1+cell": {
     "cellMetadata": {
      "byteLimit": 2048000,
      "rowLimit": 10000
     },
     "inputWidgets": {},
     "nuid": "85c21a0b-f365-44f3-baf8-55922e069319",
     "showTitle": false,
     "title": ""
    }
   },
   "outputs": [],
   "source": [
    "loan_df_key=loan_df_ingestDate.withColumn(\"loan_key\", sha2(concat(col(\"loan_id\"),col(\"member_id\"),col(\"loan_amount\")), 256))\n",
    "display(loan_df_key)"
   ]
  },
  {
   "cell_type": "code",
   "execution_count": 0,
   "metadata": {
    "application/vnd.databricks.v1+cell": {
     "cellMetadata": {
      "byteLimit": 2048000,
      "rowLimit": 10000
     },
     "inputWidgets": {},
     "nuid": "68677cde-c1f2-43b5-8d9f-edc297184ad7",
     "showTitle": false,
     "title": ""
    }
   },
   "outputs": [],
   "source": [
    "loan_df_key.createOrReplaceTempView(\"df_null\")\n",
    "null_df=spark.sql(\"select * from df_null where interest='null' \")\n",
    "display(null_df)"
   ]
  },
  {
   "cell_type": "code",
   "execution_count": 0,
   "metadata": {
    "application/vnd.databricks.v1+cell": {
     "cellMetadata": {
      "byteLimit": 2048000,
      "rowLimit": 10000
     },
     "inputWidgets": {},
     "nuid": "4dabbc48-f68b-4c70-817d-f051397a90b9",
     "showTitle": false,
     "title": ""
    }
   },
   "outputs": [],
   "source": [
    "loan_df_key.createOrReplaceTempView(\"df_null\")\n",
    "null_df=spark.sql(\"select * from df_null where interest is null \")\n",
    "display(null_df)"
   ]
  },
  {
   "cell_type": "markdown",
   "metadata": {
    "application/vnd.databricks.v1+cell": {
     "cellMetadata": {},
     "inputWidgets": {},
     "nuid": "f0ae1210-41ee-4a53-ae31-f64ca9549612",
     "showTitle": false,
     "title": ""
    }
   },
   "source": [
    "####Replace the NULL strings into NULL values"
   ]
  },
  {
   "cell_type": "code",
   "execution_count": 0,
   "metadata": {
    "application/vnd.databricks.v1+cell": {
     "cellMetadata": {
      "byteLimit": 2048000,
      "rowLimit": 10000
     },
     "inputWidgets": {},
     "nuid": "7806369a-5487-493a-b7d0-147c15bd6eb4",
     "showTitle": false,
     "title": ""
    }
   },
   "outputs": [],
   "source": [
    "final_df=loan_df_key.replace(\"null\",None)"
   ]
  },
  {
   "cell_type": "code",
   "execution_count": 0,
   "metadata": {
    "application/vnd.databricks.v1+cell": {
     "cellMetadata": {
      "byteLimit": 2048000,
      "rowLimit": 10000
     },
     "inputWidgets": {},
     "nuid": "32fb3f55-8931-4ac4-a94f-fad1640bb878",
     "showTitle": false,
     "title": ""
    }
   },
   "outputs": [],
   "source": [
    "final_df.createOrReplaceTempView(\"df_null\")\n",
    "null_df=spark.sql(\"select * from df_null where interest is null \").show()"
   ]
  },
  {
   "cell_type": "code",
   "execution_count": 0,
   "metadata": {
    "application/vnd.databricks.v1+cell": {
     "cellMetadata": {
      "byteLimit": 2048000,
      "rowLimit": 10000
     },
     "inputWidgets": {},
     "nuid": "d40d7dd5-b065-426f-a4ac-f79359f2c2d4",
     "showTitle": false,
     "title": ""
    }
   },
   "outputs": [],
   "source": [
    "final_df.printSchema()"
   ]
  },
  {
   "cell_type": "code",
   "execution_count": 0,
   "metadata": {
    "application/vnd.databricks.v1+cell": {
     "cellMetadata": {
      "byteLimit": 2048000,
      "rowLimit": 10000
     },
     "inputWidgets": {},
     "nuid": "455668e4-8f5b-428c-8580-648a35cdfcc8",
     "showTitle": false,
     "title": ""
    }
   },
   "outputs": [],
   "source": [
    "final_df.createOrReplaceTempView(\"loan_data\")\n",
    "loan_data_df=spark.sql(\"select * from loan_data where term=36 and interest > 5.0\")\n",
    "display(loan_data_df)"
   ]
  },
  {
   "cell_type": "code",
   "execution_count": 0,
   "metadata": {
    "application/vnd.databricks.v1+cell": {
     "cellMetadata": {
      "byteLimit": 2048000,
      "rowLimit": 10000
     },
     "inputWidgets": {},
     "nuid": "b1712680-5379-4920-9814-6ba15e443be5",
     "showTitle": false,
     "title": ""
    }
   },
   "outputs": [],
   "source": [
    "final_df.createOrReplaceTempView(\"temp_table\")\n",
    "display_df=spark.sql(\"select loan_key, ingest_date,loan_id,member_id,account_id,loan_amount,funded_amount,term,interest,installment,issue_date,loan_status,purpose,title,disbursement_method from temp_table\")\n",
    "display(display_df)"
   ]
  },
  {
   "cell_type": "markdown",
   "metadata": {
    "application/vnd.databricks.v1+cell": {
     "cellMetadata": {},
     "inputWidgets": {},
     "nuid": "2d64b51f-9c3c-4e0e-8249-994d1b13cb66",
     "showTitle": false,
     "title": ""
    }
   },
   "source": [
    "####Write the cleaned dataframe into data lake"
   ]
  },
  {
   "cell_type": "code",
   "execution_count": 0,
   "metadata": {
    "application/vnd.databricks.v1+cell": {
     "cellMetadata": {
      "byteLimit": 2048000,
      "rowLimit": 10000
     },
     "inputWidgets": {},
     "nuid": "8fbe9537-803f-435b-a109-5b1e7d9ebca4",
     "showTitle": false,
     "title": ""
    }
   },
   "outputs": [],
   "source": [
    "display_df.write.options(header='True').mode(\"append\").parquet(\"/mnt/silver/lending_loan/loan_details\")"
   ]
  },
  {
   "cell_type": "code",
   "execution_count": 0,
   "metadata": {
    "application/vnd.databricks.v1+cell": {
     "cellMetadata": {
      "byteLimit": 2048000,
      "rowLimit": 10000
     },
     "inputWidgets": {},
     "nuid": "ff7dd699-fe8d-4355-9426-822e05c661e8",
     "showTitle": false,
     "title": ""
    }
   },
   "outputs": [],
   "source": [
    "dbutils.fs.ls(\"/mnt/silver/lending_loan/loan_details\")"
   ]
  },
  {
   "cell_type": "code",
   "execution_count": 0,
   "metadata": {
    "application/vnd.databricks.v1+cell": {
     "cellMetadata": {
      "byteLimit": 2048000,
      "rowLimit": 10000
     },
     "inputWidgets": {},
     "nuid": "164604e8-a0c6-421b-99e1-35cfc4fdc3a1",
     "showTitle": false,
     "title": ""
    }
   },
   "outputs": [],
   "source": [
    "display(spark.read.parquet(\"/mnt/silver/lending_loan/loan_details\"))"
   ]
  },
  {
   "cell_type": "code",
   "execution_count": 0,
   "metadata": {
    "application/vnd.databricks.v1+cell": {
     "cellMetadata": {},
     "inputWidgets": {},
     "nuid": "d0aa10df-d11f-41c4-84d4-7141eeb97d83",
     "showTitle": false,
     "title": ""
    }
   },
   "outputs": [],
   "source": []
  }
 ],
 "metadata": {
  "application/vnd.databricks.v1+notebook": {
   "dashboards": [],
   "language": "python",
   "notebookMetadata": {
    "pythonIndentUnit": 4
   },
   "notebookName": "Loan_Data_Cleaning",
   "widgets": {}
  }
 },
 "nbformat": 4,
 "nbformat_minor": 0
}
