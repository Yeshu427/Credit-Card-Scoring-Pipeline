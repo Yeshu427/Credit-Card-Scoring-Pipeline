{
 "cells": [
  {
   "cell_type": "code",
   "execution_count": 0,
   "metadata": {
    "application/vnd.databricks.v1+cell": {
     "cellMetadata": {
      "byteLimit": 2048000,
      "rowLimit": 10000
     },
     "inputWidgets": {},
     "nuid": "939baf22-0c7c-4430-8fdc-30153fe27f29",
     "showTitle": false,
     "title": ""
    }
   },
   "outputs": [],
   "source": [
    "from pyspark.sql.types import StructType,StructField,StringType,IntegerType,DoubleType,FloatType,DateType\n",
    "from pyspark.sql.functions import col, concat, current_timestamp,regexp_replace,lit,to_date,when,sha2"
   ]
  },
  {
   "cell_type": "code",
   "execution_count": 0,
   "metadata": {
    "application/vnd.databricks.v1+cell": {
     "cellMetadata": {
      "byteLimit": 2048000,
      "rowLimit": 10000
     },
     "inputWidgets": {},
     "nuid": "65f56b43-75e1-42fe-8054-0895371e4b1d",
     "showTitle": false,
     "title": ""
    }
   },
   "outputs": [],
   "source": [
    "loan_default_schema = StructType(fields=[StructField(\"loan_id\", StringType(), False),\n",
    "                                     StructField(\"mem_id\", StringType(), False),\n",
    "                                     StructField(\"def_id\", StringType(), False),\n",
    "                                     StructField(\"delinq_2yrs\", IntegerType(), True),\n",
    "                                     StructField(\"delinq_amnt\",FloatType(), True),\n",
    "                                     StructField(\"pub_rec\",IntegerType(), True),\n",
    "                                     StructField(\"pub_rec_bankruptcies\",IntegerType(), True),\n",
    "                                     StructField(\"inq_last_6mths\",IntegerType(), True),\n",
    "                                     StructField(\"total_rec_late_fee\",FloatType(), True),\n",
    "                                     StructField(\"hardship_flag\",StringType(), True),\n",
    "                                     StructField(\"hardship_type\",StringType(), True),\n",
    "                                     StructField(\"hardship_length\",IntegerType(), True),\n",
    "                                     StructField(\"hardship_amount\",FloatType(), True)\n",
    " \n",
    "                                    \n",
    "])"
   ]
  },
  {
   "cell_type": "markdown",
   "metadata": {
    "application/vnd.databricks.v1+cell": {
     "cellMetadata": {},
     "inputWidgets": {},
     "nuid": "0d01c515-03a1-47e5-a9a9-6ac8b65c746b",
     "showTitle": false,
     "title": ""
    }
   },
   "source": [
    "####Read the csv file into a dataframe"
   ]
  },
  {
   "cell_type": "code",
   "execution_count": 0,
   "metadata": {
    "application/vnd.databricks.v1+cell": {
     "cellMetadata": {
      "byteLimit": 2048000,
      "rowLimit": 10000
     },
     "inputWidgets": {},
     "nuid": "1845702d-d7ae-41c0-9def-2adbe6a4436c",
     "showTitle": false,
     "title": ""
    }
   },
   "outputs": [],
   "source": [
    "loan_default_df=spark.read.option(\"header\",True).schema(loan_default_schema).csv(\"/mnt/bronze/lending_loan/loan_defaulters.csv\")"
   ]
  },
  {
   "cell_type": "code",
   "execution_count": 0,
   "metadata": {
    "application/vnd.databricks.v1+cell": {
     "cellMetadata": {
      "byteLimit": 2048000,
      "rowLimit": 10000
     },
     "inputWidgets": {},
     "nuid": "d855247b-04d4-4ced-b786-8d94d84e172d",
     "showTitle": false,
     "title": ""
    }
   },
   "outputs": [],
   "source": [
    "display(loan_default_df)"
   ]
  },
  {
   "cell_type": "markdown",
   "metadata": {
    "application/vnd.databricks.v1+cell": {
     "cellMetadata": {},
     "inputWidgets": {},
     "nuid": "120930fc-dd14-41a8-8678-8f026dd49d54",
     "showTitle": false,
     "title": ""
    }
   },
   "source": [
    "####Add the ingestion date to the dataframe"
   ]
  },
  {
   "cell_type": "code",
   "execution_count": 0,
   "metadata": {
    "application/vnd.databricks.v1+cell": {
     "cellMetadata": {
      "byteLimit": 2048000,
      "rowLimit": 10000
     },
     "inputWidgets": {},
     "nuid": "adbe0ccc-9684-4bab-bf52-a6864d4603b7",
     "showTitle": false,
     "title": ""
    }
   },
   "outputs": [],
   "source": [
    "df_ingest_date=loan_default_df.withColumn(\"ingest_date\", current_timestamp())\n",
    "display(df_ingest_date)"
   ]
  },
  {
   "cell_type": "markdown",
   "metadata": {
    "application/vnd.databricks.v1+cell": {
     "cellMetadata": {},
     "inputWidgets": {},
     "nuid": "1528481d-ab10-40a8-aca0-2f2ebfe99d25",
     "showTitle": false,
     "title": ""
    }
   },
   "source": [
    "####Add a surrogate key to the dataframe"
   ]
  },
  {
   "cell_type": "code",
   "execution_count": 0,
   "metadata": {
    "application/vnd.databricks.v1+cell": {
     "cellMetadata": {
      "byteLimit": 2048000,
      "rowLimit": 10000
     },
     "inputWidgets": {},
     "nuid": "e9129c7e-364d-4247-a9b9-21e1ae0ebaf8",
     "showTitle": false,
     "title": ""
    }
   },
   "outputs": [],
   "source": [
    "loan_default_key=df_ingest_date.withColumn(\"loan_default_key\", sha2(concat(col(\"loan_id\"),col(\"mem_id\"),col(\"def_id\")), 256))\n",
    "display(loan_default_key)"
   ]
  },
  {
   "cell_type": "markdown",
   "metadata": {
    "application/vnd.databricks.v1+cell": {
     "cellMetadata": {},
     "inputWidgets": {},
     "nuid": "04964f60-9167-44d5-966c-0b79d982e121",
     "showTitle": false,
     "title": ""
    }
   },
   "source": [
    "####Replace the NULL strings into NULL values"
   ]
  },
  {
   "cell_type": "code",
   "execution_count": 0,
   "metadata": {
    "application/vnd.databricks.v1+cell": {
     "cellMetadata": {
      "byteLimit": 2048000,
      "rowLimit": 10000
     },
     "inputWidgets": {},
     "nuid": "f9e5abda-f214-4419-9d24-b5ad098603b9",
     "showTitle": false,
     "title": ""
    }
   },
   "outputs": [],
   "source": [
    "df_null=loan_default_key.replace(\"null\",None)"
   ]
  },
  {
   "cell_type": "code",
   "execution_count": 0,
   "metadata": {
    "application/vnd.databricks.v1+cell": {
     "cellMetadata": {
      "byteLimit": 2048000,
      "rowLimit": 10000
     },
     "inputWidgets": {},
     "nuid": "f69bfd13-1082-40ab-a403-734547344c47",
     "showTitle": false,
     "title": ""
    }
   },
   "outputs": [],
   "source": [
    "df_null.createOrReplaceTempView(\"null_df_table\")\n",
    "display(spark.sql(\"select * from null_df_table where delinq_2yrs is null and hardship_flag is null\"))"
   ]
  },
  {
   "cell_type": "markdown",
   "metadata": {
    "application/vnd.databricks.v1+cell": {
     "cellMetadata": {},
     "inputWidgets": {},
     "nuid": "0b1f347d-a3ff-4650-a4fc-bdc3732c8708",
     "showTitle": false,
     "title": ""
    }
   },
   "source": [
    "####Rename the columns in the dataframe\n"
   ]
  },
  {
   "cell_type": "code",
   "execution_count": 0,
   "metadata": {
    "application/vnd.databricks.v1+cell": {
     "cellMetadata": {
      "byteLimit": 2048000,
      "rowLimit": 10000
     },
     "inputWidgets": {},
     "nuid": "3d29f9ac-1fad-42a6-91f8-74a4cb197b81",
     "showTitle": false,
     "title": ""
    }
   },
   "outputs": [],
   "source": [
    "loan_df_rename=loan_default_key.withColumnRenamed(\"mem_id\", \"member_id\") \\\n",
    ".withColumnRenamed(\"def_id\", \"loan_default_id\") \\\n",
    ".withColumnRenamed(\"delinq_2yrs\", \"defaulters_2yrs\") \\\n",
    ".withColumnRenamed(\"delinq_amnt\", \"defaulters_amount\") \\\n",
    ".withColumnRenamed(\"pub_rec\", \"public_records\") \\\n",
    ".withColumnRenamed(\"pub_rec_bankruptcies\", \"public_records_bankruptcies\") \\\n",
    ".withColumnRenamed(\"inq_last_6mths\", \"enquiries_6mnths\") \\\n",
    ".withColumnRenamed(\"total_rec_late_fee\", \"late_fee\") "
   ]
  },
  {
   "cell_type": "code",
   "execution_count": 0,
   "metadata": {
    "application/vnd.databricks.v1+cell": {
     "cellMetadata": {
      "byteLimit": 2048000,
      "rowLimit": 10000
     },
     "inputWidgets": {},
     "nuid": "d889e5ee-1d49-4406-8afa-2e58e07125ab",
     "showTitle": false,
     "title": ""
    }
   },
   "outputs": [],
   "source": [
    "loan_df_rename.createOrReplaceTempView(\"temp\")\n",
    "display_df=spark.sql(\"select loan_default_key, ingest_date, loan_id,member_id,loan_default_id,defaulters_2yrs,defaulters_amount,public_records,public_records_bankruptcies,enquiries_6mnths,late_fee,hardship_flag,hardship_type,hardship_length,hardship_amount from temp\")\n",
    "display(display_df)"
   ]
  },
  {
   "cell_type": "markdown",
   "metadata": {
    "application/vnd.databricks.v1+cell": {
     "cellMetadata": {},
     "inputWidgets": {},
     "nuid": "26154da2-bb2d-426d-bd3a-7f3185693c51",
     "showTitle": false,
     "title": ""
    }
   },
   "source": [
    "####Write the cleaned dataframe into data lake"
   ]
  },
  {
   "cell_type": "code",
   "execution_count": 0,
   "metadata": {
    "application/vnd.databricks.v1+cell": {
     "cellMetadata": {
      "byteLimit": 2048000,
      "rowLimit": 10000
     },
     "inputWidgets": {},
     "nuid": "b9f60953-b7d8-430d-9374-339422b1c7ef",
     "showTitle": false,
     "title": ""
    }
   },
   "outputs": [],
   "source": [
    "display_df.write.options(header='True').mode(\"append\").parquet(\"/mnt/silver/lending_loan/loan_defaulters\")"
   ]
  },
  {
   "cell_type": "code",
   "execution_count": 0,
   "metadata": {
    "application/vnd.databricks.v1+cell": {
     "cellMetadata": {
      "byteLimit": 2048000,
      "rowLimit": 10000
     },
     "inputWidgets": {},
     "nuid": "f519f11c-74d7-4f5a-aa89-cf19d339dec4",
     "showTitle": false,
     "title": ""
    }
   },
   "outputs": [],
   "source": [
    "display(spark.read.parquet(\"/mnt/silver/lending_loan/loan_defaulters\"))"
   ]
  }
 ],
 "metadata": {
  "application/vnd.databricks.v1+notebook": {
   "dashboards": [],
   "language": "python",
   "notebookMetadata": {
    "pythonIndentUnit": 4
   },
   "notebookName": "Loan_Defaulters_Data_Cleaning",
   "widgets": {}
  }
 },
 "nbformat": 4,
 "nbformat_minor": 0
}
