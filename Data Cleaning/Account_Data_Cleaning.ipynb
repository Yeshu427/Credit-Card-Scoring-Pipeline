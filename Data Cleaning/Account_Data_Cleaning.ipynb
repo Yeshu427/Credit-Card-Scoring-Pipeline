{
 "cells": [
  {
   "cell_type": "code",
   "execution_count": 0,
   "metadata": {
    "application/vnd.databricks.v1+cell": {
     "cellMetadata": {
      "byteLimit": 2048000,
      "rowLimit": 10000
     },
     "inputWidgets": {},
     "nuid": "bc0d5bea-d93a-41b4-b996-1dbbae726e77",
     "showTitle": false,
     "title": ""
    }
   },
   "outputs": [],
   "source": [
    "accountkey = dbutils.secrets.get('databricks-scope','accountkey')"
   ]
  },
  {
   "cell_type": "code",
   "execution_count": 0,
   "metadata": {
    "application/vnd.databricks.v1+cell": {
     "cellMetadata": {
      "byteLimit": 2048000,
      "rowLimit": 10000
     },
     "inputWidgets": {},
     "nuid": "07466111-f3e2-4de3-a342-48fcc0abb446",
     "showTitle": false,
     "title": ""
    }
   },
   "outputs": [],
   "source": [
    "dbutils.fs.mounts()"
   ]
  },
  {
   "cell_type": "code",
   "execution_count": 0,
   "metadata": {
    "application/vnd.databricks.v1+cell": {
     "cellMetadata": {
      "byteLimit": 2048000,
      "rowLimit": 10000
     },
     "inputWidgets": {},
     "nuid": "346a88a2-b3d2-4de5-82ee-f61b7332cb16",
     "showTitle": false,
     "title": ""
    }
   },
   "outputs": [],
   "source": [
    "already_mounted = False \n",
    "for x in dbutils.fs.mounts():\n",
    "    if x.mountPoint == \"/mnt/bronze\":\n",
    "        already_mounted = True\n",
    "        print(\"It is already mounted\")\n",
    "        break\n",
    "    else:\n",
    "        already_mounted = False\n",
    "if not already_mounted:\n",
    "    dbutils.fs.mount(source = 'wasbs://bronze@loanlendingdatalake.blob.core.windows.net',\n",
    "                     mount_point = '/mnt/bronze',\n",
    "                     extra_configs={'fs.azure.account.key.loanlendingdatalake.blob.core.windows.net':accountkey})\n",
    "    print(\"Mount Created\")"
   ]
  },
  {
   "cell_type": "code",
   "execution_count": 0,
   "metadata": {
    "application/vnd.databricks.v1+cell": {
     "cellMetadata": {
      "byteLimit": 2048000,
      "rowLimit": 10000
     },
     "inputWidgets": {},
     "nuid": "92c1d2c8-3b70-45ee-add9-b23937f2257b",
     "showTitle": false,
     "title": ""
    }
   },
   "outputs": [],
   "source": [
    "already_mounted = False \n",
    "for x in dbutils.fs.mounts():\n",
    "    if x.mountPoint == \"/mnt/silver\":\n",
    "        already_mounted = True\n",
    "        print(\"It is already mounted\")\n",
    "        break\n",
    "    else:\n",
    "        already_mounted = False\n",
    "if not already_mounted:\n",
    "    dbutils.fs.mount(source = 'wasbs://silver@loanlendingdatalake.blob.core.windows.net',\n",
    "                     mount_point = '/mnt/silver',\n",
    "                     extra_configs={'fs.azure.account.key.loanlendingdatalake.blob.core.windows.net':accountkey})\n",
    "    print(\"Mount Created\")"
   ]
  },
  {
   "cell_type": "code",
   "execution_count": 0,
   "metadata": {
    "application/vnd.databricks.v1+cell": {
     "cellMetadata": {
      "byteLimit": 2048000,
      "rowLimit": 10000
     },
     "inputWidgets": {},
     "nuid": "b89e8319-4be3-4447-9caf-f7911fee436b",
     "showTitle": false,
     "title": ""
    }
   },
   "outputs": [],
   "source": [
    "already_mounted = False \n",
    "for x in dbutils.fs.mounts():\n",
    "    if x.mountPoint == \"/mnt/gold\":\n",
    "        already_mounted = True\n",
    "        print(\"It is already mounted\")\n",
    "        break\n",
    "    else:\n",
    "        already_mounted = False\n",
    "if not already_mounted:\n",
    "    dbutils.fs.mount(source = 'wasbs://gold@loanlendingdatalake.blob.core.windows.net',\n",
    "                     mount_point = '/mnt/gold',\n",
    "                     extra_configs={'fs.azure.account.key.loanlendingdatalake.blob.core.windows.net':accountkey})\n",
    "    print(\"Mount Created\")"
   ]
  },
  {
   "cell_type": "code",
   "execution_count": 0,
   "metadata": {
    "application/vnd.databricks.v1+cell": {
     "cellMetadata": {
      "byteLimit": 2048000,
      "rowLimit": 10000
     },
     "inputWidgets": {},
     "nuid": "a9a2f9c1-3c86-4b6b-bf5f-fcf54e9c7c7c",
     "showTitle": false,
     "title": ""
    }
   },
   "outputs": [],
   "source": [
    "from pyspark.sql.types import StructType,StructField,StringType,IntegerType,DoubleType,FloatType,DateType\n",
    "from pyspark.sql.functions import col, concat, current_timestamp,regexp_replace,lit,to_date,when,sha2"
   ]
  },
  {
   "cell_type": "code",
   "execution_count": 0,
   "metadata": {
    "application/vnd.databricks.v1+cell": {
     "cellMetadata": {
      "byteLimit": 2048000,
      "rowLimit": 10000
     },
     "inputWidgets": {},
     "nuid": "e7bef1a5-1754-4b61-a491-53b2e3de12f5",
     "showTitle": false,
     "title": ""
    }
   },
   "outputs": [],
   "source": [
    "account_schema = StructType(fields=[StructField(\"acc_id\", StringType(), False),\n",
    "                                     StructField(\"mem_id\", StringType(), False),\n",
    "                                     StructField(\"loan_id\", StringType(), False),\n",
    "                                     StructField(\"grade\", StringType(), True),\n",
    "                                     StructField(\"sub_grade\",StringType(), True),\n",
    "                                     StructField(\"emp_title\",StringType(), True),\n",
    "                                     StructField(\"emp_length\",StringType(), True),\n",
    "                                     StructField(\"home_ownership\",StringType(), True),\n",
    "                                     StructField(\"annual_inc\",FloatType(), True),\n",
    "                                     StructField(\"verification_status\",StringType(), True),\n",
    "                                     StructField(\"tot_hi_cred_lim\",FloatType(), True),\n",
    "                                     StructField(\"application_type\",StringType(), True),\n",
    "                                     StructField(\"annual_inc_joint\",FloatType(), True),\n",
    "                                     StructField(\"verification_status_joint\",StringType(), True)\n",
    "                                    \n",
    "])"
   ]
  },
  {
   "cell_type": "code",
   "execution_count": 0,
   "metadata": {
    "application/vnd.databricks.v1+cell": {
     "cellMetadata": {
      "byteLimit": 2048000,
      "rowLimit": 10000
     },
     "inputWidgets": {},
     "nuid": "96913c82-2074-4526-a8c8-dabc7cb1a8ae",
     "showTitle": false,
     "title": ""
    }
   },
   "outputs": [],
   "source": [
    "account_df=spark.read.option(\"header\",True).schema(account_schema).csv(\"/mnt/bronze/lending_loan/account_details.csv\")"
   ]
  },
  {
   "cell_type": "code",
   "execution_count": 0,
   "metadata": {
    "application/vnd.databricks.v1+cell": {
     "cellMetadata": {
      "byteLimit": 2048000,
      "rowLimit": 10000
     },
     "inputWidgets": {},
     "nuid": "9940c865-6f59-483e-a7a3-9bb64c8c4d36",
     "showTitle": false,
     "title": ""
    }
   },
   "outputs": [],
   "source": [
    "display(account_df)"
   ]
  },
  {
   "cell_type": "code",
   "execution_count": 0,
   "metadata": {
    "application/vnd.databricks.v1+cell": {
     "cellMetadata": {
      "byteLimit": 2048000,
      "rowLimit": 10000
     },
     "inputWidgets": {},
     "nuid": "595c9aea-e596-43e4-8b97-4be2380ba274",
     "showTitle": false,
     "title": ""
    }
   },
   "outputs": [],
   "source": [
    "account_df.createOrReplaceTempView(\"temp\")\n",
    "unique_values=spark.sql(\"select distinct emp_length from temp\").show()"
   ]
  },
  {
   "cell_type": "code",
   "execution_count": 0,
   "metadata": {
    "application/vnd.databricks.v1+cell": {
     "cellMetadata": {
      "byteLimit": 2048000,
      "rowLimit": 10000
     },
     "inputWidgets": {},
     "nuid": "40ab0896-ed64-4d2b-b7ea-77cbc8ede9b7",
     "showTitle": false,
     "title": ""
    }
   },
   "outputs": [],
   "source": [
    "replace_value_na=account_df.withColumn(\"emp_length\", when(col(\"emp_length\")== lit(\"n/a\"),lit(\"null\")).otherwise(col(\"emp_length\"))  )\n",
    "display(replace_value_na)"
   ]
  },
  {
   "cell_type": "code",
   "execution_count": 0,
   "metadata": {
    "application/vnd.databricks.v1+cell": {
     "cellMetadata": {
      "byteLimit": 2048000,
      "rowLimit": 10000
     },
     "inputWidgets": {},
     "nuid": "c114f638-0057-4efc-9e45-d081a28084b5",
     "showTitle": false,
     "title": ""
    }
   },
   "outputs": [],
   "source": [
    "replace_value_1yr=replace_value_na.withColumn(\"emp_length\", when(col(\"emp_length\")== lit(\"< 1 year\"),lit(\"1\")).otherwise(col(\"emp_length\"))  )\n",
    "display(replace_value_1yr)"
   ]
  },
  {
   "cell_type": "code",
   "execution_count": 0,
   "metadata": {
    "application/vnd.databricks.v1+cell": {
     "cellMetadata": {
      "byteLimit": 2048000,
      "rowLimit": 10000
     },
     "inputWidgets": {},
     "nuid": "5d5971e9-2d69-45c6-a772-11b0b93040ac",
     "showTitle": false,
     "title": ""
    }
   },
   "outputs": [],
   "source": [
    "replace_value_10yr=replace_value_1yr.withColumn(\"emp_length\", when(col(\"emp_length\")== lit(\"10+ years\"),lit(\"10\")).otherwise(col(\"emp_length\"))  )\n",
    "display(replace_value_10yr)"
   ]
  },
  {
   "cell_type": "code",
   "execution_count": 0,
   "metadata": {
    "application/vnd.databricks.v1+cell": {
     "cellMetadata": {
      "byteLimit": 2048000,
      "rowLimit": 10000
     },
     "inputWidgets": {},
     "nuid": "7b103c53-2d4e-4286-9d16-35a3ddf72ced",
     "showTitle": false,
     "title": ""
    }
   },
   "outputs": [],
   "source": [
    "string_to_remove=\"years\"\n",
    "# Use the regexp_replace function to remove the string from the column\n",
    "replace_value_years = replace_value_10yr.withColumn(\"emp_length\", regexp_replace(replace_value_10yr[\"emp_length\"], string_to_remove, \"\"))\n",
    " \n",
    "# Display the resulting dataframe\n",
    "display(replace_value_years)"
   ]
  },
  {
   "cell_type": "code",
   "execution_count": 0,
   "metadata": {
    "application/vnd.databricks.v1+cell": {
     "cellMetadata": {
      "byteLimit": 2048000,
      "rowLimit": 10000
     },
     "inputWidgets": {},
     "nuid": "8a1957a0-128e-4865-ba6d-4d7598c8ed9b",
     "showTitle": false,
     "title": ""
    }
   },
   "outputs": [],
   "source": [
    "string_to_remove=\"year\"\n",
    "# Use the regexp_replace function to remove the string from the column\n",
    "clean_df= replace_value_years.withColumn(\"emp_length\", regexp_replace(replace_value_years[\"emp_length\"], string_to_remove, \"\"))\n",
    " \n",
    "# Display the resulting dataframe\n",
    "display(clean_df)"
   ]
  },
  {
   "cell_type": "code",
   "execution_count": 0,
   "metadata": {
    "application/vnd.databricks.v1+cell": {
     "cellMetadata": {
      "byteLimit": 2048000,
      "rowLimit": 10000
     },
     "inputWidgets": {},
     "nuid": "3a7a48b5-0156-4ac8-b85a-f8ba1ed9662a",
     "showTitle": false,
     "title": ""
    }
   },
   "outputs": [],
   "source": [
    "clean_df.createOrReplaceTempView(\"temp\")\n",
    "display_df=spark.sql(\"select distinct emp_length from temp \")\n",
    "display(display_df)"
   ]
  },
  {
   "cell_type": "code",
   "execution_count": 0,
   "metadata": {
    "application/vnd.databricks.v1+cell": {
     "cellMetadata": {
      "byteLimit": 2048000,
      "rowLimit": 10000
     },
     "inputWidgets": {},
     "nuid": "bf507b6e-649f-4b8e-9a62-4a292cc17e8c",
     "showTitle": false,
     "title": ""
    }
   },
   "outputs": [],
   "source": [
    "clean_df.createOrReplaceTempView(\"temp\")\n",
    "display_df=spark.sql(\"select * from temp where emp_length='null' \")\n",
    "display(display_df)"
   ]
  },
  {
   "cell_type": "markdown",
   "metadata": {
    "application/vnd.databricks.v1+cell": {
     "cellMetadata": {},
     "inputWidgets": {},
     "nuid": "d9775b96-180a-4735-94b8-44cfecfdfc44",
     "showTitle": false,
     "title": ""
    }
   },
   "source": [
    "#### Replace the Null Strings into Null Values "
   ]
  },
  {
   "cell_type": "code",
   "execution_count": 0,
   "metadata": {
    "application/vnd.databricks.v1+cell": {
     "cellMetadata": {
      "byteLimit": 2048000,
      "rowLimit": 10000
     },
     "inputWidgets": {},
     "nuid": "acaf2935-78e8-486c-af90-21bbb86f15b1",
     "showTitle": false,
     "title": ""
    }
   },
   "outputs": [],
   "source": [
    "final_clean_df=clean_df.replace(\"null\",None)\n",
    "display(final_clean_df)\n",
    " "
   ]
  },
  {
   "cell_type": "code",
   "execution_count": 0,
   "metadata": {
    "application/vnd.databricks.v1+cell": {
     "cellMetadata": {
      "byteLimit": 2048000,
      "rowLimit": 10000
     },
     "inputWidgets": {},
     "nuid": "eb53b8e8-f29c-46fb-82d2-190d27fc3447",
     "showTitle": false,
     "title": ""
    }
   },
   "outputs": [],
   "source": [
    "final_clean_df.createOrReplaceTempView(\"temp\")\n",
    "display_df=spark.sql(\"select * from temp where tot_hi_cred_lim is null \")\n",
    "display(display_df)"
   ]
  },
  {
   "cell_type": "markdown",
   "metadata": {
    "application/vnd.databricks.v1+cell": {
     "cellMetadata": {},
     "inputWidgets": {},
     "nuid": "2c629925-b42a-4405-a214-6d66cb0e89fa",
     "showTitle": false,
     "title": ""
    }
   },
   "source": [
    "####Add the ingestion date to the dataframe\n"
   ]
  },
  {
   "cell_type": "code",
   "execution_count": 0,
   "metadata": {
    "application/vnd.databricks.v1+cell": {
     "cellMetadata": {
      "byteLimit": 2048000,
      "rowLimit": 10000
     },
     "inputWidgets": {},
     "nuid": "309cac63-2c6f-4034-8984-a6a919b9bd8d",
     "showTitle": false,
     "title": ""
    }
   },
   "outputs": [],
   "source": [
    "account_df_ingestDate=final_clean_df.withColumn(\"ingest_date\", current_timestamp())\n",
    "display(account_df_ingestDate)"
   ]
  },
  {
   "cell_type": "markdown",
   "metadata": {
    "application/vnd.databricks.v1+cell": {
     "cellMetadata": {},
     "inputWidgets": {},
     "nuid": "e13a0876-eb5b-4a7d-bffa-6a2be3a01816",
     "showTitle": false,
     "title": ""
    }
   },
   "source": [
    "#### Add a surrogate key to the dataframe\n"
   ]
  },
  {
   "cell_type": "code",
   "execution_count": 0,
   "metadata": {
    "application/vnd.databricks.v1+cell": {
     "cellMetadata": {
      "byteLimit": 2048000,
      "rowLimit": 10000
     },
     "inputWidgets": {},
     "nuid": "cf3d9d0a-fee7-4dfc-bb61-f651261efcee",
     "showTitle": false,
     "title": ""
    }
   },
   "outputs": [],
   "source": [
    "account_df_key=account_df_ingestDate.withColumn(\"account_key\", sha2(concat(col(\"acc_id\"),col(\"mem_id\"),col(\"loan_id\")), 256))\n",
    "display(account_df_key)"
   ]
  },
  {
   "cell_type": "markdown",
   "metadata": {
    "application/vnd.databricks.v1+cell": {
     "cellMetadata": {},
     "inputWidgets": {},
     "nuid": "fb80e18d-e7d1-41d7-bd4a-f44f6c9195b5",
     "showTitle": false,
     "title": ""
    }
   },
   "source": [
    "####Rename columns in the dataframe"
   ]
  },
  {
   "cell_type": "code",
   "execution_count": 0,
   "metadata": {
    "application/vnd.databricks.v1+cell": {
     "cellMetadata": {
      "byteLimit": 2048000,
      "rowLimit": 10000
     },
     "inputWidgets": {},
     "nuid": "bb78348c-49f9-48e5-983f-335a45cdad64",
     "showTitle": false,
     "title": ""
    }
   },
   "outputs": [],
   "source": [
    "account_df_rename=account_df_key.withColumnRenamed(\"acc_id\",\"account_id\") \\\n",
    ".withColumnRenamed(\"mem_id\",\"member_id\") \\\n",
    ".withColumnRenamed(\"emp_title\",\"employee_designation\") \\\n",
    ".withColumnRenamed(\"emp_length\",\"employee_experience\") \\\n",
    ".withColumnRenamed(\"annual_inc\",\"annual_income\") \\\n",
    ".withColumnRenamed(\"tot_hi_cred_lim\",\"total_high_credit_limit\") \\\n",
    ".withColumnRenamed(\"annual_inc_joint\",\"annual_income_joint\")  "
   ]
  },
  {
   "cell_type": "code",
   "execution_count": 0,
   "metadata": {
    "application/vnd.databricks.v1+cell": {
     "cellMetadata": {
      "byteLimit": 2048000,
      "rowLimit": 10000
     },
     "inputWidgets": {},
     "nuid": "a89ac89c-c90a-43cd-a3a0-c9c89527f4e8",
     "showTitle": false,
     "title": ""
    }
   },
   "outputs": [],
   "source": [
    "account_df_rename.createOrReplaceTempView(\"temp\")\n",
    "df=spark.sql(\"select * from temp where date(ingest_date)='2023-11-14'\")\n",
    "display(df)"
   ]
  },
  {
   "cell_type": "code",
   "execution_count": 0,
   "metadata": {
    "application/vnd.databricks.v1+cell": {
     "cellMetadata": {
      "byteLimit": 2048000,
      "rowLimit": 10000
     },
     "inputWidgets": {},
     "nuid": "c254fcde-36b9-4700-9342-309983051344",
     "showTitle": false,
     "title": ""
    }
   },
   "outputs": [],
   "source": [
    "account_df_rename.createOrReplaceTempView(\"temp_table\")\n",
    "final_df=spark.sql(\"select account_key,ingest_date,account_id,member_id,loan_id,grade,sub_grade,employee_designation,employee_experience,home_ownership,annual_income,verification_status,total_high_credit_limit,application_type,annual_income_joint,verification_status_joint from temp_table \")\n",
    "display(final_df)"
   ]
  },
  {
   "cell_type": "markdown",
   "metadata": {
    "application/vnd.databricks.v1+cell": {
     "cellMetadata": {},
     "inputWidgets": {},
     "nuid": "490e0261-8305-4b3a-8175-a2baa7b844cd",
     "showTitle": false,
     "title": ""
    }
   },
   "source": [
    "####Write the cleaned dataframe into data lake"
   ]
  },
  {
   "cell_type": "code",
   "execution_count": 0,
   "metadata": {
    "application/vnd.databricks.v1+cell": {
     "cellMetadata": {
      "byteLimit": 2048000,
      "rowLimit": 10000
     },
     "inputWidgets": {},
     "nuid": "7a95bf95-2de8-426d-869f-43a1fcd2a78c",
     "showTitle": false,
     "title": ""
    }
   },
   "outputs": [],
   "source": [
    "final_df.write.options(header='True').mode(\"append\").parquet(\"/mnt/silver/lending_loan/account_details\")"
   ]
  },
  {
   "cell_type": "code",
   "execution_count": 0,
   "metadata": {
    "application/vnd.databricks.v1+cell": {
     "cellMetadata": {
      "byteLimit": 2048000,
      "rowLimit": 10000
     },
     "inputWidgets": {},
     "nuid": "495bed8b-cd91-45ac-a7c9-de16da16d984",
     "showTitle": false,
     "title": ""
    }
   },
   "outputs": [],
   "source": [
    "display(spark.read.parquet(\"/mnt/silver/lending_loan/account_details\"))"
   ]
  }
 ],
 "metadata": {
  "application/vnd.databricks.v1+notebook": {
   "dashboards": [],
   "language": "python",
   "notebookMetadata": {
    "pythonIndentUnit": 4
   },
   "notebookName": "Account_Data_Cleaning",
   "widgets": {}
  }
 },
 "nbformat": 4,
 "nbformat_minor": 0
}
