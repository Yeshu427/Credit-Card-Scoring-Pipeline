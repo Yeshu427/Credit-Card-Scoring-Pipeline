{
 "cells": [
  {
   "cell_type": "code",
   "execution_count": null,
   "metadata": {
    "application/vnd.databricks.v1+cell": {
     "cellMetadata": {
      "byteLimit": 2048000,
      "rowLimit": 10000
     },
     "inputWidgets": {},
     "nuid": "a5bd89ee-adb9-4a9d-85f8-7a20904c1f8d",
     "showTitle": false,
     "title": ""
    }
   },
   "outputs": [],
   "source": [
    "from pyspark.sql.types import StructType, StructField, IntegerType, StringType,DoubleType\n",
    "from pyspark.sql.functions import col, concat, current_timestamp,sha2"
   ]
  },
  {
   "cell_type": "code",
   "execution_count": null,
   "metadata": {
    "application/vnd.databricks.v1+cell": {
     "cellMetadata": {
      "byteLimit": 2048000,
      "rowLimit": 10000
     },
     "inputWidgets": {},
     "nuid": "80227d46-958c-422f-8dcf-a4d79fdaafcf",
     "showTitle": false,
     "title": ""
    }
   },
   "outputs": [],
   "source": [
    "#Infer the schema of investor's data\n",
    "investor_schema = StructType(fields=[StructField(\"investor_loan_id\", StringType(), True),\n",
    "                                     StructField(\"loan_id\", StringType(), True),\n",
    "                                     StructField(\"investor_id\", StringType(), False),\n",
    "                                     StructField(\"loan_funded_amt\", DoubleType(), False),\n",
    "                                     StructField(\"investor_type\", StringType(), False),\n",
    "                                     StructField(\"age\", IntegerType(), False),\n",
    "                                     StructField(\"state\", StringType(), False),\n",
    "                                     StructField(\"country\", StringType(), False)\n",
    "                                    \n",
    "])"
   ]
  },
  {
   "cell_type": "markdown",
   "metadata": {
    "application/vnd.databricks.v1+cell": {
     "cellMetadata": {},
     "inputWidgets": {},
     "nuid": "38f68c31-04db-4c25-8101-468972d42ea6",
     "showTitle": false,
     "title": ""
    }
   },
   "source": [
    "####Read the csv file into a dataframe\n"
   ]
  },
  {
   "cell_type": "code",
   "execution_count": null,
   "metadata": {
    "application/vnd.databricks.v1+cell": {
     "cellMetadata": {
      "byteLimit": 2048000,
      "rowLimit": 10000
     },
     "inputWidgets": {},
     "nuid": "0bce954a-2b97-438a-8974-80642ebe415e",
     "showTitle": false,
     "title": ""
    }
   },
   "outputs": [],
   "source": [
    "\n",
    "investor_df = spark.read \\\n",
    ".option(\"header\", True) \\\n",
    ".schema(investor_schema) \\\n",
    ".csv(\"/mnt/bronze/lending_loan/loan_investors.csv\")"
   ]
  },
  {
   "cell_type": "code",
   "execution_count": null,
   "metadata": {
    "application/vnd.databricks.v1+cell": {
     "cellMetadata": {
      "byteLimit": 2048000,
      "rowLimit": 10000
     },
     "inputWidgets": {},
     "nuid": "7246d9ab-63b0-494f-bd14-71c88b04b013",
     "showTitle": false,
     "title": ""
    }
   },
   "outputs": [],
   "source": [
    "investor_df.createOrReplaceTempView(\"investor_data\")\n",
    "spark.sql(\"select * from investor_data\").show()"
   ]
  },
  {
   "cell_type": "markdown",
   "metadata": {
    "application/vnd.databricks.v1+cell": {
     "cellMetadata": {},
     "inputWidgets": {},
     "nuid": "6654df89-abfa-4ab4-8ba8-b9789d87d902",
     "showTitle": false,
     "title": ""
    }
   },
   "source": [
    "####Add the ingestion date to the dataframe\n"
   ]
  },
  {
   "cell_type": "code",
   "execution_count": null,
   "metadata": {
    "application/vnd.databricks.v1+cell": {
     "cellMetadata": {
      "byteLimit": 2048000,
      "rowLimit": 10000
     },
     "inputWidgets": {},
     "nuid": "c748f6f8-ee09-498c-9595-e53d78f380a9",
     "showTitle": false,
     "title": ""
    }
   },
   "outputs": [],
   "source": [
    "#Include a ingest date column to signify when it got ingested into our data lake\n",
    "investor_df_ingestDate=investor_df.withColumn(\"ingest_date\", current_timestamp())\n",
    "display(investor_df_ingestDate)"
   ]
  },
  {
   "cell_type": "markdown",
   "metadata": {
    "application/vnd.databricks.v1+cell": {
     "cellMetadata": {},
     "inputWidgets": {},
     "nuid": "e3df8728-c681-4ec0-9ef8-fd0138bd2e29",
     "showTitle": false,
     "title": ""
    }
   },
   "source": [
    "####Add a surrogate key to the dataframe"
   ]
  },
  {
   "cell_type": "code",
   "execution_count": null,
   "metadata": {
    "application/vnd.databricks.v1+cell": {
     "cellMetadata": {
      "byteLimit": 2048000,
      "rowLimit": 10000
     },
     "inputWidgets": {},
     "nuid": "07c1886e-023c-4a16-ab8d-788bd4c6560c",
     "showTitle": false,
     "title": ""
    }
   },
   "outputs": [],
   "source": [
    "#Include a customer_key column which acts like a surrogate key in the table\n",
    "investor_df_key=investor_df_ingestDate.withColumn(\"investor_loan_key\", sha2(concat(col(\"investor_loan_id\"),col(\"loan_id\"),col(\"investor_id\")), 256))\n",
    "display(investor_df_key)"
   ]
  },
  {
   "cell_type": "markdown",
   "metadata": {
    "application/vnd.databricks.v1+cell": {
     "cellMetadata": {},
     "inputWidgets": {},
     "nuid": "edeef85f-f847-43f6-af8e-525381b173b6",
     "showTitle": false,
     "title": ""
    }
   },
   "source": [
    "####Use Spark SQL to query the data\n"
   ]
  },
  {
   "cell_type": "code",
   "execution_count": null,
   "metadata": {
    "application/vnd.databricks.v1+cell": {
     "cellMetadata": {
      "byteLimit": 2048000,
      "rowLimit": 10000
     },
     "inputWidgets": {},
     "nuid": "ea7a76f0-ab57-42bf-9524-9cb64a1c5bf2",
     "showTitle": false,
     "title": ""
    }
   },
   "outputs": [],
   "source": [
    "investor_df_key.createOrReplaceTempView(\"investor_temp_table\")\n",
    "display_df=spark.sql(\"select investor_loan_key,ingest_date,investor_loan_id,loan_id,investor_id,loan_funded_amt,investor_type,age,state,country from investor_temp_table\")\n",
    "display(display_df)"
   ]
  },
  {
   "cell_type": "markdown",
   "metadata": {
    "application/vnd.databricks.v1+cell": {
     "cellMetadata": {},
     "inputWidgets": {},
     "nuid": "cd88af00-4cea-4563-9b3a-e8beafcdbef0",
     "showTitle": false,
     "title": ""
    }
   },
   "source": [
    "####Write the cleaned dataframe into data lake"
   ]
  },
  {
   "cell_type": "code",
   "execution_count": null,
   "metadata": {
    "application/vnd.databricks.v1+cell": {
     "cellMetadata": {
      "byteLimit": 2048000,
      "rowLimit": 10000
     },
     "inputWidgets": {},
     "nuid": "408d63b5-a2cd-481e-ab20-c923bdc6b952",
     "showTitle": false,
     "title": ""
    }
   },
   "outputs": [],
   "source": [
    "\n",
    "display_df.write.options(header='True').mode(\"append\").parquet(\"/mnt/silver/lending_loan/investor_loan_details\")"
   ]
  },
  {
   "cell_type": "code",
   "execution_count": null,
   "metadata": {
    "application/vnd.databricks.v1+cell": {
     "cellMetadata": {
      "byteLimit": 2048000,
      "rowLimit": 10000
     },
     "inputWidgets": {},
     "nuid": "947b645c-5f7a-4324-8ecd-da4360acc0f5",
     "showTitle": false,
     "title": ""
    }
   },
   "outputs": [],
   "source": [
    "display(spark.read.parquet(\"/mnt/silver/lending_loan/investor_loan_details\"))"
   ]
  },
  {
   "cell_type": "code",
   "execution_count": null,
   "metadata": {
    "application/vnd.databricks.v1+cell": {
     "cellMetadata": {},
     "inputWidgets": {},
     "nuid": "d3158e79-e926-4105-952d-2c8c5c2df9d5",
     "showTitle": false,
     "title": ""
    }
   },
   "outputs": [],
   "source": []
  }
 ],
 "metadata": {
  "application/vnd.databricks.v1+notebook": {
   "dashboards": [],
   "language": "python",
   "notebookMetadata": {
    "pythonIndentUnit": 4
   },
   "notebookName": "Investors_Data_Cleaning",
   "widgets": {}
  },
  "language_info": {
   "name": "python"
  }
 },
 "nbformat": 4,
 "nbformat_minor": 0
}
