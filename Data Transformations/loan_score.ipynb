{
 "cells": [
  {
   "cell_type": "markdown",
   "metadata": {
    "application/vnd.databricks.v1+cell": {
     "cellMetadata": {},
     "inputWidgets": {},
     "nuid": "b9cd1113-242f-4aed-a69d-0dd340050c38",
     "showTitle": false,
     "title": ""
    }
   },
   "source": [
    "####calculate score for customers payment history"
   ]
  },
  {
   "cell_type": "code",
   "execution_count": null,
   "metadata": {
    "application/vnd.databricks.v1+cell": {
     "cellMetadata": {
      "byteLimit": 2048000,
      "rowLimit": 10000
     },
     "inputWidgets": {},
     "nuid": "497a510d-04a8-4043-a8fa-39ec097a5d0c",
     "showTitle": false,
     "title": ""
    }
   },
   "outputs": [],
   "source": [
    "spark.conf.set(\"spark.sql.unacceptable_rated_pts\",0)\n",
    "spark.conf.set(\"spark.sql.very_bad_rated_pts\",100)\n",
    "spark.conf.set(\"spark.sql.bad_rated_pts\",250)\n",
    "spark.conf.set(\"spark.sql.good_rated_pts\",500)\n",
    "spark.conf.set(\"spark.sql.very_good_rated_pts\",650)\n",
    "spark.conf.set(\"spark.sql.excellent_rated_pts\",800)"
   ]
  },
  {
   "cell_type": "code",
   "execution_count": null,
   "metadata": {
    "application/vnd.databricks.v1+cell": {
     "cellMetadata": {
      "byteLimit": 2048000,
      "rowLimit": 10000
     },
     "inputWidgets": {},
     "nuid": "dc201c8b-2efd-4b22-9268-20c092cf2112",
     "showTitle": false,
     "title": ""
    }
   },
   "outputs": [],
   "source": [
    "spark.conf.set(\"spark.sql.unacceptable_grade_pts\",750)\n",
    "spark.conf.set(\"spark.sql.very_bad_grade_pts\", 1000)\n",
    "spark.conf.set(\"spark.sql.bad_grade_pts\",1500)\n",
    "spark.conf.set(\"spark.sql.good_grade_pts\",2000)\n",
    "spark.conf.set(\"spark.sql.very_good_grade_pts\",2500)"
   ]
  },
  {
   "cell_type": "code",
   "execution_count": null,
   "metadata": {
    "application/vnd.databricks.v1+cell": {
     "cellMetadata": {
      "byteLimit": 2048000,
      "rowLimit": 10000
     },
     "inputWidgets": {},
     "nuid": "a50d4f0f-424c-42f5-9730-0658b14e0c87",
     "showTitle": false,
     "title": ""
    }
   },
   "outputs": [],
   "source": [
    "unacceptable_grade=\"F\"\n",
    "very_bad_grade=\"E\"\n",
    "bad_grade=\"D\"\n",
    "good_grade=\"C\"\n",
    "very_good_grade=\"B\"\n",
    "excellent_grade=\"A\""
   ]
  },
  {
   "cell_type": "code",
   "execution_count": null,
   "metadata": {
    "application/vnd.databricks.v1+cell": {
     "cellMetadata": {
      "byteLimit": 2048000,
      "rowLimit": 10000
     },
     "inputWidgets": {},
     "nuid": "fced6528-3e19-4f81-b4ed-4f84eceb6136",
     "showTitle": false,
     "title": ""
    }
   },
   "outputs": [],
   "source": [
    "account_df = spark.read.parquet(\"/mnt/silver/lending_loan/account_details\")\n",
    "loan_df = spark.read.parquet(\"/mnt/silver/lending_loan/loan_details\")\n",
    "payment_df = spark.read.parquet(\"/mnt/silver/lending_loan/payment_details\")\n",
    "loan_def_df = spark.read.parquet(\"/mnt/silver/lending_loan/loan_defaulters\")\n",
    "customer_df = spark.read.parquet(\"/mnt/silver/lending_loan/customer_details\")\n"
   ]
  },
  {
   "cell_type": "code",
   "execution_count": null,
   "metadata": {
    "application/vnd.databricks.v1+cell": {
     "cellMetadata": {
      "byteLimit": 2048000,
      "rowLimit": 10000
     },
     "inputWidgets": {},
     "nuid": "766e2f66-9b9a-404e-9cf2-1311b0b627b6",
     "showTitle": false,
     "title": ""
    }
   },
   "outputs": [],
   "source": [
    "customer_df.createOrReplaceTempView(\"customer_details\")"
   ]
  },
  {
   "cell_type": "code",
   "execution_count": null,
   "metadata": {
    "application/vnd.databricks.v1+cell": {
     "cellMetadata": {
      "byteLimit": 2048000,
      "rowLimit": 10000
     },
     "inputWidgets": {},
     "nuid": "159f6615-7f22-4c0d-95de-536e0eb656cd",
     "showTitle": false,
     "title": ""
    }
   },
   "outputs": [],
   "source": [
    "payment_df.createOrReplaceTempView(\"payment_details\")"
   ]
  },
  {
   "cell_type": "code",
   "execution_count": null,
   "metadata": {
    "application/vnd.databricks.v1+cell": {
     "cellMetadata": {
      "byteLimit": 2048000,
      "implicitDf": true,
      "rowLimit": 10000
     },
     "inputWidgets": {},
     "nuid": "c9b76918-c09c-420c-a093-a999a64d9754",
     "showTitle": false,
     "title": ""
    }
   },
   "outputs": [],
   "source": [
    "payment_last_df = spark.sql(\"select c.member_id, c.state, c.country, c.first_name, c.last_name, \\\n",
    "  case \\\n",
    "    when p.last_payment_amount < (p.installment * 0.5) then ${spark.sql.very_bad_rated_pts} \\\n",
    "    when p.last_payment_amount >= (p.installment * 0.5) and p.last_payment_amount < p.installment then ${spark.sql.bad_rated_pts} \\\n",
    "    when (p.last_payment_amount = (p.installment)) then ${spark.sql.good_rated_pts} \\\n",
    "    when p.last_payment_amount > (p.installment) and p.last_payment_amount <= (p.installment * 1.50) then ${spark.sql.very_good_rated_pts} \\\n",
    "    when p.last_payment_amount > (p.installment * 1.50) then ${spark.sql.excellent_rated_pts} \\\n",
    "    else ${spark.sql.unacceptable_rated_pts} \\\n",
    "  end as last_payment_pts, \\\n",
    "  case \\\n",
    "    when p.total_payment_recorded >= (p.funded_amount_investor * 0.50) then ${spark.sql.very_good_rated_pts} \\\n",
    "    when p.total_payment_recorded < (p.funded_amount_investor * 0.50) and p.total_payment_recorded > 0 then ${spark.sql.good_rated_pts} \\\n",
    "    when p.total_payment_recorded = 0 or (p.total_payment_recorded) is null then ${spark.sql.unacceptable_rated_pts} \\\n",
    "    end as total_payment_pts \\\n",
    "from payment_details p \\\n",
    "inner join customer_details c on c.member_id = p.member_id\")"
   ]
  },
  {
   "cell_type": "code",
   "execution_count": null,
   "metadata": {
    "application/vnd.databricks.v1+cell": {
     "cellMetadata": {
      "byteLimit": 2048000,
      "rowLimit": 10000
     },
     "inputWidgets": {},
     "nuid": "b0beda7e-f905-4773-a2a2-81b594947cee",
     "showTitle": false,
     "title": ""
    }
   },
   "outputs": [],
   "source": [
    "display(payment_last_df)\n",
    "payment_last_df.write.options(header='True').mode(\"append\").csv(\"/mnt/gold/lending_loan/loan_payment_points\")"
   ]
  },
  {
   "cell_type": "code",
   "execution_count": null,
   "metadata": {
    "application/vnd.databricks.v1+cell": {
     "cellMetadata": {
      "byteLimit": 2048000,
      "rowLimit": 10000
     },
     "inputWidgets": {},
     "nuid": "bce44ad4-e32a-4eca-9382-6cfe1ab69e8b",
     "showTitle": false,
     "title": ""
    }
   },
   "outputs": [],
   "source": [
    "payment_last_df.createOrReplaceTempView(\"payment_points_df\")"
   ]
  },
  {
   "cell_type": "code",
   "execution_count": null,
   "metadata": {
    "application/vnd.databricks.v1+cell": {
     "cellMetadata": {
      "byteLimit": 2048000,
      "rowLimit": 10000
     },
     "inputWidgets": {},
     "nuid": "1989f1b7-5a31-4bd8-9b80-210987d584bc",
     "showTitle": false,
     "title": ""
    }
   },
   "outputs": [],
   "source": [
    "spark.sql(\"select * from payment_points_df where last_payment_pts!= 500 or total_payment_pts!=500 \").show()"
   ]
  },
  {
   "cell_type": "code",
   "execution_count": null,
   "metadata": {
    "application/vnd.databricks.v1+cell": {
     "cellMetadata": {
      "byteLimit": 2048000,
      "rowLimit": 10000
     },
     "inputWidgets": {},
     "nuid": "1acc72ce-6cb7-49b0-a070-c0486811d637",
     "showTitle": false,
     "title": ""
    }
   },
   "outputs": [],
   "source": [
    "loan_def_df.createOrReplaceTempView(\"loan_default_details\")"
   ]
  },
  {
   "cell_type": "code",
   "execution_count": null,
   "metadata": {
    "application/vnd.databricks.v1+cell": {
     "cellMetadata": {
      "byteLimit": 2048000,
      "rowLimit": 10000
     },
     "inputWidgets": {},
     "nuid": "0d2dcd27-aa91-4c56-a533-5cee29ec47aa",
     "showTitle": false,
     "title": ""
    }
   },
   "outputs": [],
   "source": [
    "loan_default_pts = spark.sql(\n",
    "    \"SELECT p.*, \\\n",
    "    CASE \\\n",
    "    WHEN l.defaulters_2yrs = 0 THEN ${spark.sql.excellent_rated_pts} \\\n",
    "    WHEN l.defaulters_2yrs BETWEEN 1 AND 2 THEN ${spark.sql.bad_rated_pts} \\\n",
    "    WHEN l.defaulters_2yrs BETWEEN 3 AND 5 THEN ${spark.sql.very_bad_rated_pts} \\\n",
    "    WHEN l.defaulters_2yrs > 5 OR l.defaulters_2yrs IS NULL THEN ${spark.sql.unacceptable_rated_pts} \\\n",
    "    END AS delinq_pts, \\\n",
    "    CASE \\\n",
    "    WHEN l.public_records = 0 THEN ${spark.sql.excellent_rated_pts} \\\n",
    "    WHEN l.public_records BETWEEN 1 AND 2 THEN ${spark.sql.bad_rated_pts} \\\n",
    "    WHEN l.public_records BETWEEN 3 AND 5 THEN ${spark.sql.very_bad_rated_pts} \\\n",
    "    WHEN l.public_records > 5 OR l.public_records IS NULL THEN ${spark.sql.very_bad_rated_pts} \\\n",
    "    END AS public_records_pts, \\\n",
    "    CASE \\\n",
    "    WHEN l.public_records_bankruptcies = 0 THEN ${spark.sql.excellent_rated_pts}  \\\n",
    "    WHEN l.public_records_bankruptcies BETWEEN 1 AND 2 THEN ${spark.sql.bad_rated_pts} \\\n",
    "    WHEN l.public_records_bankruptcies BETWEEN 3 AND 5 THEN ${spark.sql.very_bad_rated_pts} \\\n",
    "    WHEN l.public_records_bankruptcies > 5 OR l.public_records_bankruptcies IS NULL THEN ${spark.sql.unacceptable_rated_pts} \\\n",
    "    END AS public_bankruptcies_pts, \\\n",
    "    CASE \\\n",
    "    WHEN l.enquiries_6mnths = 0 THEN ${spark.sql.excellent_rated_pts} \\\n",
    "    WHEN l.enquiries_6mnths BETWEEN 1 AND 2 THEN ${spark.sql.bad_rated_pts} \\\n",
    "    WHEN l.enquiries_6mnths BETWEEN 3 AND 5 THEN ${spark.sql.very_bad_rated_pts} \\\n",
    "    WHEN l.enquiries_6mnths > 5 OR l.enquiries_6mnths IS NULL THEN ${spark.sql.unacceptable_rated_pts} \\\n",
    "    END AS enq_pts, \\\n",
    "    CASE \\\n",
    "    WHEN l.hardship_flag = 'N' THEN ${spark.sql.very_good_rated_pts} \\\n",
    "    WHEN l.hardship_flag = 'Y' OR l.hardship_flag IS NULL THEN ${spark.sql.bad_rated_pts} \\\n",
    "    END AS hardship_pts \\\n",
    "    FROM loan_default_details l \\\n",
    "    LEFT JOIN payment_points_df p ON p.member_id = l.member_id\"\n",
    ")"
   ]
  },
  {
   "cell_type": "code",
   "execution_count": null,
   "metadata": {
    "application/vnd.databricks.v1+cell": {
     "cellMetadata": {
      "byteLimit": 2048000,
      "rowLimit": 10000
     },
     "inputWidgets": {},
     "nuid": "4c2d5c30-3c5d-4ee8-a692-e3f9bf7d71cc",
     "showTitle": false,
     "title": ""
    }
   },
   "outputs": [],
   "source": [
    "display(loan_default_pts)\n",
    "loan_default_pts.write.options(header='True').mode(\"append\").csv(\"/mnt/gold/lending_loan/loan_default_points\")"
   ]
  },
  {
   "cell_type": "code",
   "execution_count": null,
   "metadata": {
    "application/vnd.databricks.v1+cell": {
     "cellMetadata": {
      "byteLimit": 2048000,
      "rowLimit": 10000
     },
     "inputWidgets": {},
     "nuid": "9c6f66b4-c9ce-4444-b6a9-cdb7ce526580",
     "showTitle": false,
     "title": ""
    }
   },
   "outputs": [],
   "source": [
    "loan_default_pts.createOrReplaceTempView(\"loan_default_points_df\")"
   ]
  },
  {
   "cell_type": "code",
   "execution_count": null,
   "metadata": {
    "application/vnd.databricks.v1+cell": {
     "cellMetadata": {
      "byteLimit": 2048000,
      "rowLimit": 10000
     },
     "inputWidgets": {},
     "nuid": "c8f009eb-813c-4300-9faa-9088603bc27f",
     "showTitle": false,
     "title": ""
    }
   },
   "outputs": [],
   "source": [
    "loan_df.createOrReplaceTempView(\"loan_details\")"
   ]
  },
  {
   "cell_type": "code",
   "execution_count": null,
   "metadata": {
    "application/vnd.databricks.v1+cell": {
     "cellMetadata": {
      "byteLimit": 2048000,
      "rowLimit": 10000
     },
     "inputWidgets": {},
     "nuid": "7053b4e0-9f95-48a1-b3f0-ae373a1f7a58",
     "showTitle": false,
     "title": ""
    }
   },
   "outputs": [],
   "source": [
    "account_df.createOrReplaceTempView(\"account_details\")"
   ]
  },
  {
   "cell_type": "code",
   "execution_count": null,
   "metadata": {
    "application/vnd.databricks.v1+cell": {
     "cellMetadata": {
      "byteLimit": 2048000,
      "rowLimit": 10000
     },
     "inputWidgets": {},
     "nuid": "667bc540-136f-478b-99c7-ae3f546e1585",
     "showTitle": false,
     "title": ""
    }
   },
   "outputs": [],
   "source": [
    "financial_df = spark.sql(\"SELECT ldef.*, \\\n",
    "    CASE \\\n",
    "        WHEN LOWER(l.loan_status) LIKE '%fully paid%' THEN ${spark.sql.excellent_rated_pts} \\\n",
    "        WHEN LOWER(l.loan_status) LIKE '%current%' THEN ${spark.sql.good_rated_pts} \\\n",
    "        WHEN LOWER(l.loan_status) LIKE '%in grace period%' THEN ${spark.sql.bad_rated_pts} \\\n",
    "        WHEN LOWER(l.loan_status) LIKE '%late (16-30 days)%' OR LOWER(l.loan_status) LIKE '%late (31-120 days)%' THEN ${spark.sql.very_bad_rated_pts} \\\n",
    "        WHEN LOWER(l.loan_status) LIKE '%charged off%' THEN ${spark.sql.unacceptable_rated_pts} \\\n",
    "    END AS loan_status_pts, \\\n",
    "    CASE \\\n",
    "        WHEN LOWER(a.home_ownership) LIKE '%own%' THEN ${spark.sql.excellent_rated_pts} \\\n",
    "        WHEN LOWER(a.home_ownership) LIKE '%rent%' THEN ${spark.sql.good_rated_pts} \\\n",
    "        WHEN LOWER(a.home_ownership) LIKE '%mortgage%' THEN ${spark.sql.bad_rated_pts} \\\n",
    "        WHEN LOWER(a.home_ownership) LIKE '%any%' OR LOWER(a.home_ownership) IS NULL THEN ${spark.sql.very_bad_rated_pts} \\\n",
    "    END AS home_pts,  \\\n",
    "    CASE \\\n",
    "        WHEN l.funded_amount <= (a.total_high_credit_limit * 0.10) THEN ${spark.sql.excellent_rated_pts}  \\\n",
    "        WHEN l.funded_amount > (a.total_high_credit_limit * 0.10) AND l.funded_amount <= (a.total_high_credit_limit * 0.20)  THEN ${spark.sql.very_good_rated_pts}  \\\n",
    "        WHEN l.funded_amount > (a.total_high_credit_limit * 0.20) AND l.funded_amount <= (a.total_high_credit_limit * 0.30)  THEN ${spark.sql.good_rated_pts}  \\\n",
    "        WHEN l.funded_amount > (a.total_high_credit_limit * 0.30) AND l.funded_amount <= (a.total_high_credit_limit * 0.50)  THEN ${spark.sql.bad_rated_pts}  \\\n",
    "        WHEN l.funded_amount > (a.total_high_credit_limit * 0.50) AND l.funded_amount <= (a.total_high_credit_limit * 0.70)  THEN ${spark.sql.very_bad_rated_pts}  \\\n",
    "        WHEN l.funded_amount > (a.total_high_credit_limit * 0.70) THEN ${spark.sql.unacceptable_rated_pts}  \\\n",
    "    END AS credit_limit_pts, \\\n",
    "    CASE \\\n",
    "        WHEN (a.grade) ='A' and (a.sub_grade)='A1' THEN ${spark.sql.excellent_rated_pts}  \\\n",
    "        WHEN (a.grade) ='A' and (a.sub_grade)='A2' THEN (${spark.sql.excellent_rated_pts}* 0.80)  \\\n",
    "        WHEN (a.grade) ='A' and (a.sub_grade)='A3' THEN (${spark.sql.excellent_rated_pts}* 0.60)  \\\n",
    "        WHEN (a.grade) ='A' and (a.sub_grade)='A4' THEN (${spark.sql.excellent_rated_pts}* 0.40)  \\\n",
    "        WHEN (a.grade) ='A' and (a.sub_grade)='A5' THEN (${spark.sql.excellent_rated_pts}* 0.20)  \\\n",
    "        WHEN (a.grade) ='B' and (a.sub_grade)='B1' THEN (${spark.sql.very_good_rated_pts})  \\\n",
    "        WHEN (a.grade) ='B' and (a.sub_grade)='B2' THEN (${spark.sql.very_good_rated_pts}* 0.80)  \\\n",
    "        WHEN (a.grade) ='B' and (a.sub_grade)='B3' THEN (${spark.sql.very_good_rated_pts}* 0.60)  \\\n",
    "        WHEN (a.grade) ='B' and (a.sub_grade)='B4' THEN (${spark.sql.very_good_rated_pts}* 0.40)  \\\n",
    "        WHEN (a.grade) ='B' and (a.sub_grade)='B5' THEN (${spark.sql.very_good_rated_pts}* 0.20)  \\\n",
    "        WHEN (a.grade) ='C' and (a.sub_grade)='C1' THEN (${spark.sql.good_rated_pts})  \\\n",
    "        WHEN (a.grade) ='C' and (a.sub_grade)='C2' THEN (${spark.sql.good_rated_pts}* 0.80)  \\\n",
    "        WHEN (a.grade) ='C' and (a.sub_grade)='C3' THEN (${spark.sql.good_rated_pts}* 0.60)  \\\n",
    "        WHEN (a.grade) ='C' and (a.sub_grade)='C4' THEN (${spark.sql.good_rated_pts}* 0.40)  \\\n",
    "        WHEN (a.grade) ='C' and (a.sub_grade)='C5' THEN (${spark.sql.good_rated_pts}* 0.20)  \\\n",
    "        WHEN (a.grade) ='D' and (a.sub_grade)='D1' THEN (${spark.sql.bad_rated_pts})  \\\n",
    "        WHEN (a.grade) ='D' and (a.sub_grade)='D2' THEN (${spark.sql.bad_rated_pts}*0.80)  \\\n",
    "        WHEN (a.grade) ='D' and (a.sub_grade)='D3' THEN (${spark.sql.bad_rated_pts}*0.60)  \\\n",
    "        WHEN (a.grade) ='D' and (a.sub_grade)='D4' THEN (${spark.sql.bad_rated_pts}*0.40)  \\\n",
    "        WHEN (a.grade) ='D' and (a.sub_grade)='D5' THEN (${spark.sql.bad_rated_pts}*0.20)  \\\n",
    "        WHEN (a.grade) ='E' and (a.sub_grade)='E1' THEN (${spark.sql.very_bad_rated_pts})  \\\n",
    "        WHEN (a.grade) ='E' and (a.sub_grade)='E2' THEN (${spark.sql.very_bad_rated_pts}*0.80)  \\\n",
    "        WHEN (a.grade) ='E' and (a.sub_grade)='E3' THEN (${spark.sql.very_bad_rated_pts}*0.60)  \\\n",
    "        WHEN (a.grade) ='E' and (a.sub_grade)='E4' THEN (${spark.sql.very_bad_rated_pts}*0.40)  \\\n",
    "        WHEN (a.grade) ='E' and (a.sub_grade)='E5' THEN (${spark.sql.very_bad_rated_pts}*0.20)  \\\n",
    "        WHEN (a.grade) in ('F','G') and (a.sub_grade) in ('F1','G1') THEN (${spark.sql.unacceptable_rated_pts})  \\\n",
    "        WHEN (a.grade) in ('F','G') and (a.sub_grade) in ('F2','G2') THEN (${spark.sql.unacceptable_rated_pts}*0.80)  \\\n",
    "        WHEN (a.grade) in ('F','G') and (a.sub_grade) in ('F3','G3') THEN (${spark.sql.unacceptable_rated_pts}*0.60)  \\\n",
    "        WHEN (a.grade) in ('F','G') and (a.sub_grade) in ('F4','G4') THEN (${spark.sql.unacceptable_rated_pts}*0.40)  \\\n",
    "        WHEN (a.grade) in ('F','G') and (a.sub_grade) in ('F5','G5') THEN (${spark.sql.unacceptable_rated_pts}*0.20)  \\\n",
    "    END AS grade_pts \\\n",
    " FROM loan_default_points_df ldef \\\n",
    " LEFT JOIN loan_details l ON ldef.member_id = l.member_id \\\n",
    " LEFT JOIN account_details a ON a.member_id = ldef.member_id\")"
   ]
  },
  {
   "cell_type": "code",
   "execution_count": null,
   "metadata": {
    "application/vnd.databricks.v1+cell": {
     "cellMetadata": {
      "byteLimit": 2048000,
      "rowLimit": 10000
     },
     "inputWidgets": {},
     "nuid": "e43486ae-8727-43b7-a192-67c14a120ad5",
     "showTitle": false,
     "title": ""
    }
   },
   "outputs": [],
   "source": [
    "financial_df.createOrReplaceTempView(\"loan_score_details\")"
   ]
  },
  {
   "cell_type": "code",
   "execution_count": null,
   "metadata": {
    "application/vnd.databricks.v1+cell": {
     "cellMetadata": {
      "byteLimit": 2048000,
      "rowLimit": 10000
     },
     "inputWidgets": {},
     "nuid": "1d14b6a8-83fd-4495-a786-dcd6ab1257c0",
     "showTitle": false,
     "title": ""
    }
   },
   "outputs": [],
   "source": [
    "display(financial_df)\n",
    "financial_df.write.options(header='True').mode(\"append\").csv(\"/mnt/gold/lending_loan/financial_credit_grade_points\")"
   ]
  },
  {
   "cell_type": "code",
   "execution_count": null,
   "metadata": {
    "application/vnd.databricks.v1+cell": {
     "cellMetadata": {
      "byteLimit": 2048000,
      "rowLimit": 10000
     },
     "inputWidgets": {},
     "nuid": "51e447ca-d431-4f36-b8e9-c9a71c75e5b3",
     "showTitle": false,
     "title": ""
    }
   },
   "outputs": [
    {
     "name": "stdout",
     "output_type": "stream",
     "text": [
      "root\n",
      " |-- member_id: string (nullable = true)\n",
      " |-- state: string (nullable = true)\n",
      " |-- country: string (nullable = true)\n",
      " |-- first_name: string (nullable = true)\n",
      " |-- last_name: string (nullable = true)\n",
      " |-- last_payment_pts: integer (nullable = true)\n",
      " |-- total_payment_pts: integer (nullable = true)\n",
      " |-- delinq_pts: integer (nullable = true)\n",
      " |-- public_records_pts: integer (nullable = true)\n",
      " |-- public_bankruptcies_pts: integer (nullable = true)\n",
      " |-- enq_pts: integer (nullable = true)\n",
      " |-- hardship_pts: integer (nullable = true)\n",
      " |-- loan_status_pts: integer (nullable = true)\n",
      " |-- home_pts: integer (nullable = true)\n",
      " |-- credit_limit_pts: integer (nullable = true)\n",
      " |-- grade_pts: decimal(12,2) (nullable = true)\n",
      "\n"
     ]
    }
   ],
   "source": [
    "financial_df.printSchema()"
   ]
  },
  {
   "cell_type": "code",
   "execution_count": null,
   "metadata": {
    "application/vnd.databricks.v1+cell": {
     "cellMetadata": {
      "byteLimit": 2048000,
      "rowLimit": 10000
     },
     "inputWidgets": {},
     "nuid": "579273ae-1186-4700-b914-a5dd257da52c",
     "showTitle": false,
     "title": ""
    }
   },
   "outputs": [],
   "source": [
    "loan_score = spark.sql(\"SELECT member_id, first_name, last_name, state, country, \\\n",
    "((last_payment_pts+total_payment_pts)*0.20) as payment_history_pts, \\\n",
    "((delinq_pts +public_records_pts+public_bankruptcies_pts+enq_pts+hardship_pts)*0.45) as defaulters_history_pts, \\\n",
    "((loan_status_pts+home_pts+credit_limit_pts+grade_pts)*0.35) as financial_health_pts \\\n",
    "FROM loan_score_details\")"
   ]
  },
  {
   "cell_type": "code",
   "execution_count": null,
   "metadata": {
    "application/vnd.databricks.v1+cell": {
     "cellMetadata": {
      "byteLimit": 2048000,
      "rowLimit": 10000
     },
     "inputWidgets": {},
     "nuid": "caa521c6-9f28-4060-a4cd-e06fae6b3fbd",
     "showTitle": false,
     "title": ""
    }
   },
   "outputs": [],
   "source": [
    "loan_score.createOrReplaceTempView(\"loan_score_pts\")"
   ]
  },
  {
   "cell_type": "code",
   "execution_count": null,
   "metadata": {
    "application/vnd.databricks.v1+cell": {
     "cellMetadata": {
      "byteLimit": 2048000,
      "rowLimit": 10000
     },
     "inputWidgets": {},
     "nuid": "ffc7537d-8496-470f-a513-31bbf9817a24",
     "showTitle": false,
     "title": ""
    }
   },
   "outputs": [],
   "source": [
    "loan_score_final=spark.sql(\"select ls.member_id,ls.first_name,ls.last_name,ls.state,ls.country, \\\n",
    "(payment_history_pts+defaulters_history_pts+financial_health_pts) as loan_score \\\n",
    "from loan_score_pts ls \")"
   ]
  },
  {
   "cell_type": "code",
   "execution_count": null,
   "metadata": {
    "application/vnd.databricks.v1+cell": {
     "cellMetadata": {
      "byteLimit": 2048000,
      "rowLimit": 10000
     },
     "inputWidgets": {},
     "nuid": "3bfb9836-4dab-429f-bee9-b6c4519f8f8c",
     "showTitle": false,
     "title": ""
    }
   },
   "outputs": [],
   "source": [
    "loan_score_final.createOrReplaceTempView(\"loan_score_eval\")"
   ]
  },
  {
   "cell_type": "code",
   "execution_count": null,
   "metadata": {
    "application/vnd.databricks.v1+cell": {
     "cellMetadata": {
      "byteLimit": 2048000,
      "rowLimit": 10000
     },
     "inputWidgets": {},
     "nuid": "40efa96d-788f-46e9-b93d-24816b4faa98",
     "showTitle": false,
     "title": ""
    }
   },
   "outputs": [],
   "source": [
    "loan_score_final=spark.sql(\"select ls.*, \\\n",
    "case \\\n",
    "WHEN loan_score > ${spark.sql.very_good_grade_pts} THEN '\" + excellent_grade + \"' \\\n",
    "WHEN loan_score <= ${spark.sql.very_good_grade_pts} AND loan_score > ${spark.sql.good_grade_pts} THEN '\" + very_good_grade + \"' \\\n",
    "WHEN loan_score <= ${spark.sql.good_grade_pts} AND loan_score > ${spark.sql.bad_grade_pts} THEN '\" + good_grade + \"' \\\n",
    "WHEN loan_score <= ${spark.sql.bad_grade_pts} AND loan_score > ${spark.sql.very_bad_grade_pts} THEN '\" + bad_grade + \"' \\\n",
    "WHEN loan_score <= ${spark.sql.very_bad_grade_pts} AND loan_score > ${spark.sql.unacceptable_grade_pts} THEN '\" + very_bad_grade + \"' \\\n",
    "WHEN loan_score <= ${spark.sql.unacceptable_grade_pts} THEN '\" + unacceptable_grade + \"' \\\n",
    "end as loan_final_grade \\\n",
    "from loan_score_eval ls\")"
   ]
  },
  {
   "cell_type": "code",
   "execution_count": null,
   "metadata": {
    "application/vnd.databricks.v1+cell": {
     "cellMetadata": {
      "byteLimit": 2048000,
      "rowLimit": 10000
     },
     "inputWidgets": {},
     "nuid": "9dd81935-5946-45d9-ab4d-fe62c3a43e6d",
     "showTitle": false,
     "title": ""
    }
   },
   "outputs": [],
   "source": [
    "loan_score_final.createOrReplaceTempView(\"loan_final_table\")"
   ]
  },
  {
   "cell_type": "code",
   "execution_count": null,
   "metadata": {
    "application/vnd.databricks.v1+cell": {
     "cellMetadata": {
      "byteLimit": 2048000,
      "rowLimit": 10000
     },
     "inputWidgets": {},
     "nuid": "70acab05-ce89-4e26-abfe-0b287ca0242d",
     "showTitle": false,
     "title": ""
    }
   },
   "outputs": [
    {
     "name": "stdout",
     "output_type": "stream",
     "text": [
      "+---------+----------+---------+--------------+-------+----------+----------------+\n",
      "|member_id|first_name|last_name|         state|country|loan_score|loan_final_grade|\n",
      "+---------+----------+---------+--------------+-------+----------+----------------+\n",
      "|   MEM605|    Jessie| Crawford|       Arizona|    USA| 2224.0000|               B|\n",
      "|   MEM943|   Douglas|Christian|       Wyoming|    USA| 2076.0000|               B|\n",
      "|  MEM1322|     Allen|    Steve|    Acceptable|    USA| 2061.5000|               B|\n",
      "|  MEM1784|      John|  Tillman|      Virginia|    USA| 2350.0000|               B|\n",
      "|  MEM2312|    Reuben|    Allen|      Michigan|    USA| 2339.5000|               B|\n",
      "|  MEM2422|   Seymour|     Burt|    Acceptable|    USA| 2335.0000|               B|\n",
      "|  MEM2446|      Aron|   Porter|        Alaska|    USA| 2402.5000|               B|\n",
      "|  MEM3260|    Morton|   Minnie|South Carolina|    USA| 2018.5000|               B|\n",
      "|  MEM3292|     Royal|      Asa|      Maryland|    USA| 2192.5000|               B|\n",
      "|  MEM4209|    Israel|    Pearl|      Virginia|    USA| 2422.5000|               B|\n",
      "|  MEM4465|    Benton|    Evans|        Alaska|    USA| 2052.5000|               B|\n",
      "|  MEM4805|        Wm|     Elza|    Washington|    USA| 2422.5000|               B|\n",
      "|  MEM6380|    Darius|    Alden|      Michigan|    USA| 2283.5000|               B|\n",
      "|  MEM7321|    Butler|      Edd|       Wyoming|    USA| 2207.5000|               B|\n",
      "|  MEM7486|    Philip|    Isham|        Alaska|    USA| 2385.0000|               B|\n",
      "|  MEM8147|   Wilford|   Howell|  Pennsylvania|    USA| 2335.0000|               B|\n",
      "|  MEM9258|       Pat|   Horace|  Pennsylvania|    USA| 2157.5000|               B|\n",
      "|  MEM9522|   Bennett|  Jackson|    Washington|    USA| 2370.0000|               B|\n",
      "| MEM11014|     Silas|   Gerald|      Michigan|    USA| 2422.5000|               B|\n",
      "| MEM11216|     Judge|     Lafe|      Maryland|    USA| 2300.0000|               B|\n",
      "+---------+----------+---------+--------------+-------+----------+----------------+\n",
      "only showing top 20 rows\n",
      "\n"
     ]
    }
   ],
   "source": [
    "spark.sql(\"select * from loan_final_table where loan_final_grade in ('B') \").show()"
   ]
  },
  {
   "cell_type": "code",
   "execution_count": null,
   "metadata": {
    "application/vnd.databricks.v1+cell": {
     "cellMetadata": {
      "byteLimit": 2048000,
      "rowLimit": 10000
     },
     "inputWidgets": {},
     "nuid": "dd51ccc8-b73e-4bf4-84cc-b0609e169120",
     "showTitle": false,
     "title": ""
    }
   },
   "outputs": [],
   "source": [
    "display(loan_score_final)"
   ]
  },
  {
   "cell_type": "code",
   "execution_count": null,
   "metadata": {
    "application/vnd.databricks.v1+cell": {
     "cellMetadata": {
      "byteLimit": 2048000,
      "rowLimit": 10000
     },
     "inputWidgets": {},
     "nuid": "76b71fe6-0e49-4190-aa0a-25cfd1ae0131",
     "showTitle": false,
     "title": ""
    }
   },
   "outputs": [],
   "source": [
    "loan_score_final.write.options(header='True').mode(\"append\").csv(\"/mnt/gold/lending_loan/loan_score_final_grades\")"
   ]
  }
 ],
 "metadata": {
  "application/vnd.databricks.v1+notebook": {
   "dashboards": [],
   "language": "python",
   "notebookMetadata": {
    "mostRecentlyExecutedCommandWithImplicitDF": {
     "commandId": -1,
     "dataframes": [
      "_sqldf"
     ]
    },
    "pythonIndentUnit": 4
   },
   "notebookName": "loan_score",
   "widgets": {}
  },
  "language_info": {
   "name": "python"
  }
 },
 "nbformat": 4,
 "nbformat_minor": 0
}
