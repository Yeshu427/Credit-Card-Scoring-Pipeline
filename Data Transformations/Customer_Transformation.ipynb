{
 "cells": [
  {
   "cell_type": "code",
   "execution_count": 0,
   "metadata": {
    "application/vnd.databricks.v1+cell": {
     "cellMetadata": {
      "byteLimit": 2048000,
      "implicitDf": true,
      "rowLimit": 10000
     },
     "inputWidgets": {},
     "nuid": "a2048d03-8da0-4b35-bdae-e66df79c83d7",
     "showTitle": false,
     "title": ""
    }
   },
   "outputs": [
    {
     "output_type": "display_data",
     "data": {
      "text/html": [
       "<style scoped>\n",
       "  .table-result-container {\n",
       "    max-height: 300px;\n",
       "    overflow: auto;\n",
       "  }\n",
       "  table, th, td {\n",
       "    border: 1px solid black;\n",
       "    border-collapse: collapse;\n",
       "  }\n",
       "  th, td {\n",
       "    padding: 5px;\n",
       "  }\n",
       "  th {\n",
       "    text-align: left;\n",
       "  }\n",
       "</style><div class='table-result-container'><table class='table-result'><thead style='background-color: white'><tr><th>state</th><th>country</th><th>total_count</th></tr></thead><tbody><tr><td>Michigan</td><td>USA</td><td>7286</td></tr><tr><td>Virginia</td><td>USA</td><td>7216</td></tr><tr><td>South Carolina</td><td>USA</td><td>7225</td></tr><tr><td>Utah</td><td>USA</td><td>7268</td></tr><tr><td>Maryland</td><td>USA</td><td>7179</td></tr><tr><td>New York</td><td>USA</td><td>7395</td></tr><tr><td>Wyoming</td><td>USA</td><td>7300</td></tr><tr><td>Acceptable</td><td>USA</td><td>7201</td></tr><tr><td>Arizona</td><td>USA</td><td>7288</td></tr><tr><td>Washington</td><td>USA</td><td>7151</td></tr><tr><td>Illinois</td><td>USA</td><td>7337</td></tr><tr><td>Florida</td><td>USA</td><td>7199</td></tr><tr><td>Alaska</td><td>USA</td><td>7072</td></tr><tr><td>Texas</td><td>USA</td><td>7357</td></tr><tr><td>New Jersey</td><td>USA</td><td>7336</td></tr><tr><td>Pennsylvania</td><td>USA</td><td>7303</td></tr><tr><td>Hawaii</td><td>USA</td><td>7270</td></tr><tr><td>California</td><td>USA</td><td>7393</td></tr></tbody></table></div>"
      ]
     },
     "metadata": {
      "application/vnd.databricks.v1+output": {
       "addedWidgets": {},
       "aggData": [],
       "aggError": "",
       "aggOverflow": false,
       "aggSchema": [],
       "aggSeriesLimitReached": false,
       "aggType": "",
       "arguments": {},
       "columnCustomDisplayInfos": {},
       "data": [
        [
         "Michigan",
         "USA",
         7286
        ],
        [
         "Virginia",
         "USA",
         7216
        ],
        [
         "South Carolina",
         "USA",
         7225
        ],
        [
         "Utah",
         "USA",
         7268
        ],
        [
         "Maryland",
         "USA",
         7179
        ],
        [
         "New York",
         "USA",
         7395
        ],
        [
         "Wyoming",
         "USA",
         7300
        ],
        [
         "Acceptable",
         "USA",
         7201
        ],
        [
         "Arizona",
         "USA",
         7288
        ],
        [
         "Washington",
         "USA",
         7151
        ],
        [
         "Illinois",
         "USA",
         7337
        ],
        [
         "Florida",
         "USA",
         7199
        ],
        [
         "Alaska",
         "USA",
         7072
        ],
        [
         "Texas",
         "USA",
         7357
        ],
        [
         "New Jersey",
         "USA",
         7336
        ],
        [
         "Pennsylvania",
         "USA",
         7303
        ],
        [
         "Hawaii",
         "USA",
         7270
        ],
        [
         "California",
         "USA",
         7393
        ]
       ],
       "datasetInfos": [],
       "dbfsResultPath": null,
       "isJsonSchema": true,
       "metadata": {
        "dataframeName": "_sqldf",
        "executionCount": 1
       },
       "overflow": false,
       "plotOptions": {
        "customPlotOptions": {},
        "displayType": "table",
        "pivotAggregation": null,
        "pivotColumns": null,
        "xColumns": null,
        "yColumns": null
       },
       "removedWidgets": [],
       "schema": [
        {
         "metadata": "{}",
         "name": "state",
         "type": "\"string\""
        },
        {
         "metadata": "{}",
         "name": "country",
         "type": "\"string\""
        },
        {
         "metadata": "{}",
         "name": "total_count",
         "type": "\"long\""
        }
       ],
       "type": "table"
      }
     },
     "output_type": "display_data"
    }
   ],
   "source": [
    "%sql\n",
    "--Query to find the total count of customers by state and country:\n",
    "SELECT state, country, count(*) as total_count\n",
    "FROM lending_loan_e2e.customer_details_external\n",
    "GROUP BY state, country;"
   ]
  },
  {
   "cell_type": "markdown",
   "metadata": {
    "application/vnd.databricks.v1+cell": {
     "cellMetadata": {},
     "inputWidgets": {},
     "nuid": "96d6d57d-b68a-4948-be22-348d34aff0b1",
     "showTitle": false,
     "title": ""
    }
   },
   "source": [
    "####Query to find the count of customers having premium membership falling in different age buckets\n"
   ]
  },
  {
   "cell_type": "code",
   "execution_count": 0,
   "metadata": {
    "application/vnd.databricks.v1+cell": {
     "cellMetadata": {
      "byteLimit": 2048000,
      "implicitDf": true,
      "rowLimit": 10000
     },
     "inputWidgets": {},
     "nuid": "2a76d78d-739b-450d-97af-89ba025d406f",
     "showTitle": false,
     "title": ""
    }
   },
   "outputs": [
    {
     "output_type": "display_data",
     "data": {
      "text/html": [
       "<style scoped>\n",
       "  .table-result-container {\n",
       "    max-height: 300px;\n",
       "    overflow: auto;\n",
       "  }\n",
       "  table, th, td {\n",
       "    border: 1px solid black;\n",
       "    border-collapse: collapse;\n",
       "  }\n",
       "  th, td {\n",
       "    padding: 5px;\n",
       "  }\n",
       "  th {\n",
       "    text-align: left;\n",
       "  }\n",
       "</style><div class='table-result-container'><table class='table-result'><thead style='background-color: white'><tr><th>country</th><th>age_range</th><th>count(1)</th></tr></thead><tbody><tr><td>USA</td><td>Youngsters</td><td>7208</td></tr><tr><td>USA</td><td>Senior Citizens</td><td>40140</td></tr><tr><td>USA</td><td>Middle Age</td><td>8884</td></tr><tr><td>USA</td><td>Working class</td><td>8961</td></tr></tbody></table></div>"
      ]
     },
     "metadata": {
      "application/vnd.databricks.v1+output": {
       "addedWidgets": {},
       "aggData": [],
       "aggError": "",
       "aggOverflow": false,
       "aggSchema": [],
       "aggSeriesLimitReached": false,
       "aggType": "",
       "arguments": {},
       "columnCustomDisplayInfos": {},
       "data": [
        [
         "USA",
         "Youngsters",
         7208
        ],
        [
         "USA",
         "Senior Citizens",
         40140
        ],
        [
         "USA",
         "Middle Age",
         8884
        ],
        [
         "USA",
         "Working class",
         8961
        ]
       ],
       "datasetInfos": [],
       "dbfsResultPath": null,
       "isJsonSchema": true,
       "metadata": {
        "dataframeName": "_sqldf",
        "executionCount": 2
       },
       "overflow": false,
       "plotOptions": {
        "customPlotOptions": {},
        "displayType": "table",
        "pivotAggregation": null,
        "pivotColumns": null,
        "xColumns": null,
        "yColumns": null
       },
       "removedWidgets": [],
       "schema": [
        {
         "metadata": "{}",
         "name": "country",
         "type": "\"string\""
        },
        {
         "metadata": "{}",
         "name": "age_range",
         "type": "\"string\""
        },
        {
         "metadata": "{\"__autoGeneratedAlias\":\"true\"}",
         "name": "count(1)",
         "type": "\"long\""
        }
       ],
       "type": "table"
      }
     },
     "output_type": "display_data"
    }
   ],
   "source": [
    "%sql\n",
    "SELECT country, \n",
    "       CASE \n",
    "           WHEN age BETWEEN 18 AND 25 THEN 'Youngsters'\n",
    "           WHEN age BETWEEN 26 AND 35 THEN 'Working class'\n",
    "           WHEN age BETWEEN 36 AND 45 THEN 'Middle Age'\n",
    "           ELSE 'Senior Citizens'\n",
    "       END as age_range,\n",
    "       COUNT(*)\n",
    " FROM lending_loan_e2e.customer_details_external\n",
    "WHERE premium_status = 'TRUE'\n",
    "GROUP BY country, age_range;"
   ]
  },
  {
   "cell_type": "markdown",
   "metadata": {
    "application/vnd.databricks.v1+cell": {
     "cellMetadata": {},
     "inputWidgets": {},
     "nuid": "8553248d-7d73-45c3-b8b2-ab72bcdda532",
     "showTitle": false,
     "title": ""
    }
   },
   "source": [
    "####Query to find the percentage of customers in each state that are premium customers, grouped by country\n"
   ]
  },
  {
   "cell_type": "code",
   "execution_count": 0,
   "metadata": {
    "application/vnd.databricks.v1+cell": {
     "cellMetadata": {
      "byteLimit": 2048000,
      "implicitDf": true,
      "rowLimit": 10000
     },
     "inputWidgets": {},
     "nuid": "57ce8dab-b65d-456e-8aa5-d2270c00eb88",
     "showTitle": false,
     "title": ""
    }
   },
   "outputs": [
    {
     "output_type": "display_data",
     "data": {
      "text/html": [
       "<style scoped>\n",
       "  .table-result-container {\n",
       "    max-height: 300px;\n",
       "    overflow: auto;\n",
       "  }\n",
       "  table, th, td {\n",
       "    border: 1px solid black;\n",
       "    border-collapse: collapse;\n",
       "  }\n",
       "  th, td {\n",
       "    padding: 5px;\n",
       "  }\n",
       "  th {\n",
       "    text-align: left;\n",
       "  }\n",
       "</style><div class='table-result-container'><table class='table-result'><thead style='background-color: white'><tr><th>country</th><th>state</th><th>member_percentage</th></tr></thead><tbody><tr><td>USA</td><td>Utah</td><td>50.23</td></tr><tr><td>USA</td><td>Hawaii</td><td>49.56</td></tr><tr><td>USA</td><td>New Jersey</td><td>50.0</td></tr><tr><td>USA</td><td>New York</td><td>49.43</td></tr><tr><td>USA</td><td>Wyoming</td><td>49.59</td></tr><tr><td>USA</td><td>California</td><td>49.79</td></tr><tr><td>USA</td><td>Pennsylvania</td><td>49.88</td></tr><tr><td>USA</td><td>Illinois</td><td>49.58</td></tr><tr><td>USA</td><td>Washington</td><td>50.09</td></tr><tr><td>USA</td><td>Arizona</td><td>49.84</td></tr><tr><td>USA</td><td>Texas</td><td>48.84</td></tr><tr><td>USA</td><td>Maryland</td><td>48.5</td></tr><tr><td>USA</td><td>Virginia</td><td>50.67</td></tr><tr><td>USA</td><td>Acceptable</td><td>50.91</td></tr><tr><td>USA</td><td>Florida</td><td>50.19</td></tr><tr><td>USA</td><td>Michigan</td><td>49.52</td></tr><tr><td>USA</td><td>South Carolina</td><td>49.87</td></tr><tr><td>USA</td><td>Alaska</td><td>50.89</td></tr></tbody></table></div>"
      ]
     },
     "metadata": {
      "application/vnd.databricks.v1+output": {
       "addedWidgets": {},
       "aggData": [],
       "aggError": "",
       "aggOverflow": false,
       "aggSchema": [],
       "aggSeriesLimitReached": false,
       "aggType": "",
       "arguments": {},
       "columnCustomDisplayInfos": {},
       "data": [
        [
         "USA",
         "Utah",
         50.23
        ],
        [
         "USA",
         "Hawaii",
         49.56
        ],
        [
         "USA",
         "New Jersey",
         50.0
        ],
        [
         "USA",
         "New York",
         49.43
        ],
        [
         "USA",
         "Wyoming",
         49.59
        ],
        [
         "USA",
         "California",
         49.79
        ],
        [
         "USA",
         "Pennsylvania",
         49.88
        ],
        [
         "USA",
         "Illinois",
         49.58
        ],
        [
         "USA",
         "Washington",
         50.09
        ],
        [
         "USA",
         "Arizona",
         49.84
        ],
        [
         "USA",
         "Texas",
         48.84
        ],
        [
         "USA",
         "Maryland",
         48.5
        ],
        [
         "USA",
         "Virginia",
         50.67
        ],
        [
         "USA",
         "Acceptable",
         50.91
        ],
        [
         "USA",
         "Florida",
         50.19
        ],
        [
         "USA",
         "Michigan",
         49.52
        ],
        [
         "USA",
         "South Carolina",
         49.87
        ],
        [
         "USA",
         "Alaska",
         50.89
        ]
       ],
       "datasetInfos": [],
       "dbfsResultPath": null,
       "isJsonSchema": true,
       "metadata": {
        "dataframeName": "_sqldf",
        "executionCount": 3
       },
       "overflow": false,
       "plotOptions": {
        "customPlotOptions": {},
        "displayType": "table",
        "pivotAggregation": null,
        "pivotColumns": null,
        "xColumns": null,
        "yColumns": null
       },
       "removedWidgets": [],
       "schema": [
        {
         "metadata": "{}",
         "name": "country",
         "type": "\"string\""
        },
        {
         "metadata": "{}",
         "name": "state",
         "type": "\"string\""
        },
        {
         "metadata": "{}",
         "name": "member_percentage",
         "type": "\"double\""
        }
       ],
       "type": "table"
      }
     },
     "output_type": "display_data"
    }
   ],
   "source": [
    "%sql\n",
    "WITH customer_counts AS (\n",
    "    SELECT country, state, COUNT(*) as total_customers\n",
    "    FROM lending_loan_e2e.customer_details_external\n",
    "    GROUP BY country, state\n",
    "),\n",
    "member_counts AS (\n",
    "    SELECT country, state, COUNT(DISTINCT member_id) as total_members\n",
    "    FROM lending_loan_e2e.customer_details_external\n",
    "    WHERE member_id IS NOT NULL and  premium_status = 'TRUE'\n",
    "    GROUP BY country, state\n",
    ")\n",
    "SELECT customer_counts.country, customer_counts.state, \n",
    "       ROUND(member_counts.total_members / customer_counts.total_customers * 100, 2) as member_percentage\n",
    "FROM customer_counts\n",
    "JOIN member_counts\n",
    "ON customer_counts.country = member_counts.country AND customer_counts.state = member_counts.state;"
   ]
  },
  {
   "cell_type": "code",
   "execution_count": 0,
   "metadata": {
    "application/vnd.databricks.v1+cell": {
     "cellMetadata": {
      "byteLimit": 2048000,
      "rowLimit": 10000
     },
     "inputWidgets": {},
     "nuid": "ee4187cb-7425-49c0-ae43-0f1ad6a69e3f",
     "showTitle": false,
     "title": ""
    }
   },
   "outputs": [],
   "source": [
    "from pyspark.sql.functions import avg, count,col,when,countDistinct,round"
   ]
  },
  {
   "cell_type": "code",
   "execution_count": 0,
   "metadata": {
    "application/vnd.databricks.v1+cell": {
     "cellMetadata": {
      "byteLimit": 2048000,
      "rowLimit": 10000
     },
     "inputWidgets": {},
     "nuid": "266e42b1-81da-4361-86fc-011b58e197ee",
     "showTitle": false,
     "title": ""
    }
   },
   "outputs": [],
   "source": [
    "customers_df = spark.read.parquet(\"/mnt/silver/lending_loan/customer_details\")"
   ]
  },
  {
   "cell_type": "markdown",
   "metadata": {
    "application/vnd.databricks.v1+cell": {
     "cellMetadata": {},
     "inputWidgets": {},
     "nuid": "d0da2d79-90f2-4b93-8584-6fdd52614f59",
     "showTitle": false,
     "title": ""
    }
   },
   "source": [
    "####Query to find the number of customers with a premium status of \"true\" in each country, grouped by age range using pyspark dataframe:"
   ]
  },
  {
   "cell_type": "code",
   "execution_count": 0,
   "metadata": {
    "application/vnd.databricks.v1+cell": {
     "cellMetadata": {
      "byteLimit": 2048000,
      "rowLimit": 10000
     },
     "inputWidgets": {},
     "nuid": "96794b3e-cc2f-4779-a364-883b73e2b8b5",
     "showTitle": false,
     "title": ""
    }
   },
   "outputs": [
    {
     "output_type": "stream",
     "name": "stdout",
     "output_type": "stream",
     "text": [
      "+-------+---------------+--------+\n|country|      age_range|count(1)|\n+-------+---------------+--------+\n|    USA|     Youngsters|    7208|\n|    USA|     Middle Age|    8884|\n|    USA|  Working class|    8961|\n|    USA|Senior citizens|   40140|\n+-------+---------------+--------+\n\n"
     ]
    }
   ],
   "source": [
    "customers_df.filter(\"premium_status = 'TRUE'\" ) \\\n",
    "  .withColumn(\"age_range\", when((col(\"age\") >= 18) & (col(\"age\") <= 25), \"Youngsters\")\n",
    "                           .when((col(\"age\") > 25) & (col(\"age\") <= 35), \"Working class\")\n",
    "                           .when((col(\"age\") > 35) & (col(\"age\") <= 45), \"Middle Age\")\n",
    "                           .otherwise(\"Senior citizens\")) \\\n",
    "  .groupBy(\"country\", \"age_range\") \\\n",
    "  .agg(count(\"*\")) \\\n",
    "  .show()"
   ]
  },
  {
   "cell_type": "code",
   "execution_count": 0,
   "metadata": {
    "application/vnd.databricks.v1+cell": {
     "cellMetadata": {
      "byteLimit": 2048000,
      "rowLimit": 10000
     },
     "inputWidgets": {},
     "nuid": "e75d1e54-aa92-4711-8f68-cbfc4a2a15e3",
     "showTitle": false,
     "title": ""
    }
   },
   "outputs": [],
   "source": [
    "#Query to find the average age of customers by state and country using pyspark dataframe\n",
    "customer_avg_age=customers_df.groupBy(\"state\", \"country\").agg(avg(\"age\"))"
   ]
  },
  {
   "cell_type": "code",
   "execution_count": 0,
   "metadata": {
    "application/vnd.databricks.v1+cell": {
     "cellMetadata": {
      "byteLimit": 2048000,
      "rowLimit": 10000
     },
     "inputWidgets": {},
     "nuid": "16de1cf3-023c-465e-a151-401e09f9f378",
     "showTitle": false,
     "title": ""
    }
   },
   "outputs": [],
   "source": [
    "customer_avg_age.createOrReplaceTempView(\"customers_avg_age\")"
   ]
  },
  {
   "cell_type": "code",
   "execution_count": 0,
   "metadata": {
    "application/vnd.databricks.v1+cell": {
     "cellMetadata": {
      "byteLimit": 2048000,
      "implicitDf": true,
      "rowLimit": 10000
     },
     "inputWidgets": {},
     "nuid": "3da3d82c-36ed-4195-9eed-031953d73de2",
     "showTitle": false,
     "title": ""
    }
   },
   "outputs": [
    {
     "output_type": "display_data",
     "data": {
      "text/html": [
       "<style scoped>\n",
       "  .table-result-container {\n",
       "    max-height: 300px;\n",
       "    overflow: auto;\n",
       "  }\n",
       "  table, th, td {\n",
       "    border: 1px solid black;\n",
       "    border-collapse: collapse;\n",
       "  }\n",
       "  th, td {\n",
       "    padding: 5px;\n",
       "  }\n",
       "  th {\n",
       "    text-align: left;\n",
       "  }\n",
       "</style><div class='table-result-container'><table class='table-result'><thead style='background-color: white'><tr></tr></thead><tbody></tbody></table></div>"
      ]
     },
     "metadata": {
      "application/vnd.databricks.v1+output": {
       "addedWidgets": {},
       "aggData": [],
       "aggError": "",
       "aggOverflow": false,
       "aggSchema": [],
       "aggSeriesLimitReached": false,
       "aggType": "",
       "arguments": {},
       "columnCustomDisplayInfos": {},
       "data": [],
       "datasetInfos": [],
       "dbfsResultPath": null,
       "isJsonSchema": true,
       "metadata": {
        "dataframeName": null
       },
       "overflow": false,
       "plotOptions": {
        "customPlotOptions": {},
        "displayType": "table",
        "pivotAggregation": null,
        "pivotColumns": null,
        "xColumns": null,
        "yColumns": null
       },
       "removedWidgets": [],
       "schema": [],
       "type": "table"
      }
     },
     "output_type": "display_data"
    }
   ],
   "source": [
    "%sql\n",
    "CREATE EXTERNAL TABLE lending_loan_e2e.customers_avg_age \n",
    "USING PARQUET\n",
    "LOCATION '/mnt/silver/lending-loan/customer-transformations/customers_avg_age'\n",
    "select * from customers_avg_age"
   ]
  },
  {
   "cell_type": "code",
   "execution_count": 0,
   "metadata": {
    "application/vnd.databricks.v1+cell": {
     "cellMetadata": {
      "byteLimit": 2048000,
      "implicitDf": true,
      "rowLimit": 10000
     },
     "inputWidgets": {},
     "nuid": "c8fc4738-6d46-408d-909d-99fdc251b3c8",
     "showTitle": false,
     "title": ""
    }
   },
   "outputs": [
    {
     "output_type": "display_data",
     "data": {
      "text/html": [
       "<style scoped>\n",
       "  .table-result-container {\n",
       "    max-height: 300px;\n",
       "    overflow: auto;\n",
       "  }\n",
       "  table, th, td {\n",
       "    border: 1px solid black;\n",
       "    border-collapse: collapse;\n",
       "  }\n",
       "  th, td {\n",
       "    padding: 5px;\n",
       "  }\n",
       "  th {\n",
       "    text-align: left;\n",
       "  }\n",
       "</style><div class='table-result-container'><table class='table-result'><thead style='background-color: white'><tr><th>state</th><th>country</th><th>avg(age)</th></tr></thead><tbody><tr><td>Michigan</td><td>USA</td><td>54.04899807850673</td></tr><tr><td>Virginia</td><td>USA</td><td>53.9539911308204</td></tr><tr><td>South Carolina</td><td>USA</td><td>53.858269896193775</td></tr><tr><td>Utah</td><td>USA</td><td>54.34411117226197</td></tr><tr><td>Maryland</td><td>USA</td><td>53.78534614848865</td></tr><tr><td>New York</td><td>USA</td><td>53.87342799188641</td></tr><tr><td>Wyoming</td><td>USA</td><td>54.14917808219178</td></tr><tr><td>Acceptable</td><td>USA</td><td>54.041383141230384</td></tr><tr><td>Arizona</td><td>USA</td><td>54.37966520307354</td></tr><tr><td>Washington</td><td>USA</td><td>53.774716822821986</td></tr><tr><td>Illinois</td><td>USA</td><td>53.94534550906365</td></tr><tr><td>Florida</td><td>USA</td><td>54.27545492429504</td></tr><tr><td>Alaska</td><td>USA</td><td>53.894513574660635</td></tr><tr><td>Texas</td><td>USA</td><td>53.945630012233245</td></tr><tr><td>New Jersey</td><td>USA</td><td>53.80847873500545</td></tr><tr><td>Pennsylvania</td><td>USA</td><td>54.10803779268794</td></tr><tr><td>Hawaii</td><td>USA</td><td>53.93012379642366</td></tr><tr><td>California</td><td>USA</td><td>54.07980522115515</td></tr></tbody></table></div>"
      ]
     },
     "metadata": {
      "application/vnd.databricks.v1+output": {
       "addedWidgets": {},
       "aggData": [],
       "aggError": "",
       "aggOverflow": false,
       "aggSchema": [],
       "aggSeriesLimitReached": false,
       "aggType": "",
       "arguments": {},
       "columnCustomDisplayInfos": {},
       "data": [
        [
         "Michigan",
         "USA",
         54.04899807850673
        ],
        [
         "Virginia",
         "USA",
         53.9539911308204
        ],
        [
         "South Carolina",
         "USA",
         53.858269896193775
        ],
        [
         "Utah",
         "USA",
         54.34411117226197
        ],
        [
         "Maryland",
         "USA",
         53.78534614848865
        ],
        [
         "New York",
         "USA",
         53.87342799188641
        ],
        [
         "Wyoming",
         "USA",
         54.14917808219178
        ],
        [
         "Acceptable",
         "USA",
         54.041383141230384
        ],
        [
         "Arizona",
         "USA",
         54.37966520307354
        ],
        [
         "Washington",
         "USA",
         53.774716822821986
        ],
        [
         "Illinois",
         "USA",
         53.94534550906365
        ],
        [
         "Florida",
         "USA",
         54.27545492429504
        ],
        [
         "Alaska",
         "USA",
         53.894513574660635
        ],
        [
         "Texas",
         "USA",
         53.945630012233245
        ],
        [
         "New Jersey",
         "USA",
         53.80847873500545
        ],
        [
         "Pennsylvania",
         "USA",
         54.10803779268794
        ],
        [
         "Hawaii",
         "USA",
         53.93012379642366
        ],
        [
         "California",
         "USA",
         54.07980522115515
        ]
       ],
       "datasetInfos": [],
       "dbfsResultPath": null,
       "isJsonSchema": true,
       "metadata": {
        "dataframeName": "_sqldf",
        "executionCount": 10
       },
       "overflow": false,
       "plotOptions": {
        "customPlotOptions": {},
        "displayType": "table",
        "pivotAggregation": null,
        "pivotColumns": null,
        "xColumns": null,
        "yColumns": null
       },
       "removedWidgets": [],
       "schema": [
        {
         "metadata": "{}",
         "name": "state",
         "type": "\"string\""
        },
        {
         "metadata": "{}",
         "name": "country",
         "type": "\"string\""
        },
        {
         "metadata": "{}",
         "name": "avg(age)",
         "type": "\"double\""
        }
       ],
       "type": "table"
      }
     },
     "output_type": "display_data"
    }
   ],
   "source": [
    "%sql\n",
    "SELECT * FROM lending_loan_e2e.customers_avg_age"
   ]
  },
  {
   "cell_type": "code",
   "execution_count": 0,
   "metadata": {
    "application/vnd.databricks.v1+cell": {
     "cellMetadata": {},
     "inputWidgets": {},
     "nuid": "8f0504d6-bddd-4fda-ba15-754f221a7ca9",
     "showTitle": false,
     "title": ""
    }
   },
   "outputs": [],
   "source": [
    "%sql\n",
    "CREATE EXTERNAL TABLE lending_loan_e2e.customers_premium_status \n",
    "USING PARQUET\n",
    "LOCATION '/mnt/datasetbigdata/processed-data/lending-loan/customer-transformations/customers_premium_status'"
   ]
  },
  {
   "cell_type": "code",
   "execution_count": 0,
   "metadata": {
    "application/vnd.databricks.v1+cell": {
     "cellMetadata": {
      "byteLimit": 2048000,
      "implicitDf": true,
      "rowLimit": 10000
     },
     "inputWidgets": {},
     "nuid": "9c192fd8-e7a1-4a2a-9ca1-19a94c16726f",
     "showTitle": false,
     "title": ""
    }
   },
   "outputs": [
    {
     "output_type": "display_data",
     "data": {
      "text/html": [
       "<style scoped>\n",
       "  .table-result-container {\n",
       "    max-height: 300px;\n",
       "    overflow: auto;\n",
       "  }\n",
       "  table, th, td {\n",
       "    border: 1px solid black;\n",
       "    border-collapse: collapse;\n",
       "  }\n",
       "  th, td {\n",
       "    padding: 5px;\n",
       "  }\n",
       "  th {\n",
       "    text-align: left;\n",
       "  }\n",
       "</style><div class='table-result-container'><table class='table-result'><thead style='background-color: white'><tr><th>country</th><th>state</th><th>member_percentage</th></tr></thead><tbody><tr><td>USA</td><td>Utah</td><td>50.23</td></tr><tr><td>USA</td><td>Hawaii</td><td>49.56</td></tr><tr><td>USA</td><td>New Jersey</td><td>50.0</td></tr><tr><td>USA</td><td>New York</td><td>49.43</td></tr><tr><td>USA</td><td>Wyoming</td><td>49.59</td></tr><tr><td>USA</td><td>California</td><td>49.79</td></tr><tr><td>USA</td><td>Pennsylvania</td><td>49.88</td></tr><tr><td>USA</td><td>Illinois</td><td>49.58</td></tr><tr><td>USA</td><td>Washington</td><td>50.09</td></tr><tr><td>USA</td><td>Arizona</td><td>49.84</td></tr><tr><td>USA</td><td>Texas</td><td>48.84</td></tr><tr><td>USA</td><td>Maryland</td><td>48.5</td></tr><tr><td>USA</td><td>Virginia</td><td>50.67</td></tr><tr><td>USA</td><td>Acceptable</td><td>50.91</td></tr><tr><td>USA</td><td>Florida</td><td>50.19</td></tr><tr><td>USA</td><td>Michigan</td><td>49.52</td></tr><tr><td>USA</td><td>South Carolina</td><td>49.87</td></tr><tr><td>USA</td><td>Alaska</td><td>50.89</td></tr></tbody></table></div>"
      ]
     },
     "metadata": {
      "application/vnd.databricks.v1+output": {
       "addedWidgets": {},
       "aggData": [],
       "aggError": "",
       "aggOverflow": false,
       "aggSchema": [],
       "aggSeriesLimitReached": false,
       "aggType": "",
       "arguments": {},
       "columnCustomDisplayInfos": {},
       "data": [
        [
         "USA",
         "Utah",
         50.23
        ],
        [
         "USA",
         "Hawaii",
         49.56
        ],
        [
         "USA",
         "New Jersey",
         50.0
        ],
        [
         "USA",
         "New York",
         49.43
        ],
        [
         "USA",
         "Wyoming",
         49.59
        ],
        [
         "USA",
         "California",
         49.79
        ],
        [
         "USA",
         "Pennsylvania",
         49.88
        ],
        [
         "USA",
         "Illinois",
         49.58
        ],
        [
         "USA",
         "Washington",
         50.09
        ],
        [
         "USA",
         "Arizona",
         49.84
        ],
        [
         "USA",
         "Texas",
         48.84
        ],
        [
         "USA",
         "Maryland",
         48.5
        ],
        [
         "USA",
         "Virginia",
         50.67
        ],
        [
         "USA",
         "Acceptable",
         50.91
        ],
        [
         "USA",
         "Florida",
         50.19
        ],
        [
         "USA",
         "Michigan",
         49.52
        ],
        [
         "USA",
         "South Carolina",
         49.87
        ],
        [
         "USA",
         "Alaska",
         50.89
        ]
       ],
       "datasetInfos": [],
       "dbfsResultPath": null,
       "isJsonSchema": true,
       "metadata": {
        "dataframeName": "_sqldf",
        "executionCount": 13
       },
       "overflow": false,
       "plotOptions": {
        "customPlotOptions": {},
        "displayType": "table",
        "pivotAggregation": null,
        "pivotColumns": null,
        "xColumns": null,
        "yColumns": null
       },
       "removedWidgets": [],
       "schema": [
        {
         "metadata": "{}",
         "name": "country",
         "type": "\"string\""
        },
        {
         "metadata": "{}",
         "name": "state",
         "type": "\"string\""
        },
        {
         "metadata": "{}",
         "name": "member_percentage",
         "type": "\"double\""
        }
       ],
       "type": "table"
      }
     },
     "output_type": "display_data"
    }
   ],
   "source": [
    "%sql\n",
    "\n",
    " WITH customer_counts AS (\n",
    "    SELECT country, state, COUNT(*) as total_customers\n",
    "    FROM lending_loan_e2e.customer_details_external\n",
    "    GROUP BY country, state\n",
    "),\n",
    "member_counts AS (\n",
    "    SELECT country, state, COUNT(DISTINCT member_id) as total_members\n",
    "    FROM lending_loan_e2e.customer_details_external\n",
    "    WHERE member_id IS NOT NULL and  premium_status = 'TRUE'\n",
    "    GROUP BY country, state\n",
    ")\n",
    "SELECT customer_counts.country, customer_counts.state, \n",
    "       ROUND(member_counts.total_members / customer_counts.total_customers * 100, 2) as member_percentage\n",
    "FROM customer_counts\n",
    "JOIN member_counts\n",
    "ON customer_counts.country = member_counts.country AND customer_counts.state = member_counts.state;"
   ]
  },
  {
   "cell_type": "code",
   "execution_count": 0,
   "metadata": {
    "application/vnd.databricks.v1+cell": {
     "cellMetadata": {
      "byteLimit": 2048000,
      "implicitDf": true,
      "rowLimit": 10000
     },
     "inputWidgets": {},
     "nuid": "cdbd6e1d-ab13-435a-8910-2b28b591bace",
     "showTitle": false,
     "title": ""
    }
   },
   "outputs": [],
   "source": [
    "customers_premium_status_percentage = spark.sql(\"select * from lending_loan_e2e.customers_premium_status\")"
   ]
  },
  {
   "cell_type": "code",
   "execution_count": 0,
   "metadata": {
    "application/vnd.databricks.v1+cell": {
     "cellMetadata": {
      "byteLimit": 2048000,
      "rowLimit": 10000
     },
     "inputWidgets": {},
     "nuid": "1922aea7-a927-4f25-a1b1-4ff552252240",
     "showTitle": false,
     "title": ""
    }
   },
   "outputs": [
    {
     "output_type": "display_data",
     "data": {
      "text/html": [
       "<style scoped>\n",
       "  .table-result-container {\n",
       "    max-height: 300px;\n",
       "    overflow: auto;\n",
       "  }\n",
       "  table, th, td {\n",
       "    border: 1px solid black;\n",
       "    border-collapse: collapse;\n",
       "  }\n",
       "  th, td {\n",
       "    padding: 5px;\n",
       "  }\n",
       "  th {\n",
       "    text-align: left;\n",
       "  }\n",
       "</style><div class='table-result-container'><table class='table-result'><thead style='background-color: white'><tr><th>country</th><th>state</th><th>member_percentage</th></tr></thead><tbody><tr><td>USA</td><td>Utah</td><td>50.23</td></tr><tr><td>USA</td><td>Hawaii</td><td>49.56</td></tr><tr><td>USA</td><td>New Jersey</td><td>50.0</td></tr><tr><td>USA</td><td>New York</td><td>49.43</td></tr><tr><td>USA</td><td>Wyoming</td><td>49.59</td></tr><tr><td>USA</td><td>California</td><td>49.79</td></tr><tr><td>USA</td><td>Pennsylvania</td><td>49.88</td></tr><tr><td>USA</td><td>Illinois</td><td>49.58</td></tr><tr><td>USA</td><td>Washington</td><td>50.09</td></tr><tr><td>USA</td><td>Arizona</td><td>49.84</td></tr><tr><td>USA</td><td>Texas</td><td>48.84</td></tr><tr><td>USA</td><td>Maryland</td><td>48.5</td></tr><tr><td>USA</td><td>Virginia</td><td>50.67</td></tr><tr><td>USA</td><td>Acceptable</td><td>50.91</td></tr><tr><td>USA</td><td>Florida</td><td>50.19</td></tr><tr><td>USA</td><td>Michigan</td><td>49.52</td></tr><tr><td>USA</td><td>South Carolina</td><td>49.87</td></tr><tr><td>USA</td><td>Alaska</td><td>50.89</td></tr></tbody></table></div>"
      ]
     },
     "metadata": {
      "application/vnd.databricks.v1+output": {
       "addedWidgets": {},
       "aggData": [],
       "aggError": "",
       "aggOverflow": false,
       "aggSchema": [],
       "aggSeriesLimitReached": false,
       "aggType": "",
       "arguments": {},
       "columnCustomDisplayInfos": {},
       "data": [
        [
         "USA",
         "Utah",
         50.23
        ],
        [
         "USA",
         "Hawaii",
         49.56
        ],
        [
         "USA",
         "New Jersey",
         50.0
        ],
        [
         "USA",
         "New York",
         49.43
        ],
        [
         "USA",
         "Wyoming",
         49.59
        ],
        [
         "USA",
         "California",
         49.79
        ],
        [
         "USA",
         "Pennsylvania",
         49.88
        ],
        [
         "USA",
         "Illinois",
         49.58
        ],
        [
         "USA",
         "Washington",
         50.09
        ],
        [
         "USA",
         "Arizona",
         49.84
        ],
        [
         "USA",
         "Texas",
         48.84
        ],
        [
         "USA",
         "Maryland",
         48.5
        ],
        [
         "USA",
         "Virginia",
         50.67
        ],
        [
         "USA",
         "Acceptable",
         50.91
        ],
        [
         "USA",
         "Florida",
         50.19
        ],
        [
         "USA",
         "Michigan",
         49.52
        ],
        [
         "USA",
         "South Carolina",
         49.87
        ],
        [
         "USA",
         "Alaska",
         50.89
        ]
       ],
       "datasetInfos": [],
       "dbfsResultPath": null,
       "isJsonSchema": true,
       "metadata": {},
       "overflow": false,
       "plotOptions": {
        "customPlotOptions": {},
        "displayType": "table",
        "pivotAggregation": null,
        "pivotColumns": null,
        "xColumns": null,
        "yColumns": null
       },
       "removedWidgets": [],
       "schema": [
        {
         "metadata": "{}",
         "name": "country",
         "type": "\"string\""
        },
        {
         "metadata": "{}",
         "name": "state",
         "type": "\"string\""
        },
        {
         "metadata": "{}",
         "name": "member_percentage",
         "type": "\"double\""
        }
       ],
       "type": "table"
      }
     },
     "output_type": "display_data"
    }
   ],
   "source": [
    "display(customers_premium_status_percentage)"
   ]
  },
  {
   "cell_type": "code",
   "execution_count": 0,
   "metadata": {
    "application/vnd.databricks.v1+cell": {
     "cellMetadata": {
      "byteLimit": 2048000,
      "rowLimit": 10000
     },
     "inputWidgets": {},
     "nuid": "e57eeea9-b9da-4c3d-940f-2992bc678e10",
     "showTitle": false,
     "title": ""
    }
   },
   "outputs": [],
   "source": [
    "customers_premium_status_percentage.write.options(header='True').mode(\"append\").csv(\"/mnt/gold/lending_loan/customers_premium_status_percentage\")"
   ]
  },
  {
   "cell_type": "code",
   "execution_count": 0,
   "metadata": {
    "application/vnd.databricks.v1+cell": {
     "cellMetadata": {
      "byteLimit": 2048000,
      "rowLimit": 10000
     },
     "inputWidgets": {},
     "nuid": "bfddb2eb-575b-49b7-b875-a293f55793b1",
     "showTitle": false,
     "title": ""
    }
   },
   "outputs": [],
   "source": [
    "customer_premium_df = spark.read \\\n",
    ".option(\"header\", True)  \\\n",
    ".csv(\"/mnt/gold/lending_loan/customers_premium_status_percentage\")"
   ]
  },
  {
   "cell_type": "code",
   "execution_count": 0,
   "metadata": {
    "application/vnd.databricks.v1+cell": {
     "cellMetadata": {
      "byteLimit": 2048000,
      "rowLimit": 10000
     },
     "inputWidgets": {},
     "nuid": "7ea0328a-138c-45d8-813e-2afb30a99718",
     "showTitle": false,
     "title": ""
    }
   },
   "outputs": [
    {
     "output_type": "display_data",
     "data": {
      "text/html": [
       "<style scoped>\n",
       "  .table-result-container {\n",
       "    max-height: 300px;\n",
       "    overflow: auto;\n",
       "  }\n",
       "  table, th, td {\n",
       "    border: 1px solid black;\n",
       "    border-collapse: collapse;\n",
       "  }\n",
       "  th, td {\n",
       "    padding: 5px;\n",
       "  }\n",
       "  th {\n",
       "    text-align: left;\n",
       "  }\n",
       "</style><div class='table-result-container'><table class='table-result'><thead style='background-color: white'><tr><th>country</th><th>state</th><th>member_percentage</th></tr></thead><tbody><tr><td>USA</td><td>Utah</td><td>50.23</td></tr><tr><td>USA</td><td>Hawaii</td><td>49.56</td></tr><tr><td>USA</td><td>New Jersey</td><td>50.0</td></tr><tr><td>USA</td><td>New York</td><td>49.43</td></tr><tr><td>USA</td><td>Wyoming</td><td>49.59</td></tr><tr><td>USA</td><td>California</td><td>49.79</td></tr><tr><td>USA</td><td>Pennsylvania</td><td>49.88</td></tr><tr><td>USA</td><td>Illinois</td><td>49.58</td></tr><tr><td>USA</td><td>Washington</td><td>50.09</td></tr><tr><td>USA</td><td>Arizona</td><td>49.84</td></tr><tr><td>USA</td><td>Texas</td><td>48.84</td></tr><tr><td>USA</td><td>Maryland</td><td>48.5</td></tr><tr><td>USA</td><td>Virginia</td><td>50.67</td></tr><tr><td>USA</td><td>Acceptable</td><td>50.91</td></tr><tr><td>USA</td><td>Florida</td><td>50.19</td></tr><tr><td>USA</td><td>Michigan</td><td>49.52</td></tr><tr><td>USA</td><td>South Carolina</td><td>49.87</td></tr><tr><td>USA</td><td>Alaska</td><td>50.89</td></tr></tbody></table></div>"
      ]
     },
     "metadata": {
      "application/vnd.databricks.v1+output": {
       "addedWidgets": {},
       "aggData": [],
       "aggError": "",
       "aggOverflow": false,
       "aggSchema": [],
       "aggSeriesLimitReached": false,
       "aggType": "",
       "arguments": {},
       "columnCustomDisplayInfos": {},
       "data": [
        [
         "USA",
         "Utah",
         "50.23"
        ],
        [
         "USA",
         "Hawaii",
         "49.56"
        ],
        [
         "USA",
         "New Jersey",
         "50.0"
        ],
        [
         "USA",
         "New York",
         "49.43"
        ],
        [
         "USA",
         "Wyoming",
         "49.59"
        ],
        [
         "USA",
         "California",
         "49.79"
        ],
        [
         "USA",
         "Pennsylvania",
         "49.88"
        ],
        [
         "USA",
         "Illinois",
         "49.58"
        ],
        [
         "USA",
         "Washington",
         "50.09"
        ],
        [
         "USA",
         "Arizona",
         "49.84"
        ],
        [
         "USA",
         "Texas",
         "48.84"
        ],
        [
         "USA",
         "Maryland",
         "48.5"
        ],
        [
         "USA",
         "Virginia",
         "50.67"
        ],
        [
         "USA",
         "Acceptable",
         "50.91"
        ],
        [
         "USA",
         "Florida",
         "50.19"
        ],
        [
         "USA",
         "Michigan",
         "49.52"
        ],
        [
         "USA",
         "South Carolina",
         "49.87"
        ],
        [
         "USA",
         "Alaska",
         "50.89"
        ]
       ],
       "datasetInfos": [],
       "dbfsResultPath": null,
       "isJsonSchema": true,
       "metadata": {},
       "overflow": false,
       "plotOptions": {
        "customPlotOptions": {},
        "displayType": "table",
        "pivotAggregation": null,
        "pivotColumns": null,
        "xColumns": null,
        "yColumns": null
       },
       "removedWidgets": [],
       "schema": [
        {
         "metadata": "{}",
         "name": "country",
         "type": "\"string\""
        },
        {
         "metadata": "{}",
         "name": "state",
         "type": "\"string\""
        },
        {
         "metadata": "{}",
         "name": "member_percentage",
         "type": "\"string\""
        }
       ],
       "type": "table"
      }
     },
     "output_type": "display_data"
    }
   ],
   "source": [
    "display(customer_premium_df)"
   ]
  },
  {
   "cell_type": "code",
   "execution_count": 0,
   "metadata": {
    "application/vnd.databricks.v1+cell": {
     "cellMetadata": {},
     "inputWidgets": {},
     "nuid": "1d3cdf7d-9cbb-4668-b0d8-acd0c7077b14",
     "showTitle": false,
     "title": ""
    }
   },
   "outputs": [],
   "source": []
  }
 ],
 "metadata": {
  "application/vnd.databricks.v1+notebook": {
   "dashboards": [],
   "language": "python",
   "notebookMetadata": {
    "mostRecentlyExecutedCommandWithImplicitDF": {
     "commandId": -1,
     "dataframes": [
      "_sqldf"
     ]
    },
    "pythonIndentUnit": 4
   },
   "notebookName": "Customer_Transformation",
   "widgets": {}
  }
 },
 "nbformat": 4,
 "nbformat_minor": 0
}
